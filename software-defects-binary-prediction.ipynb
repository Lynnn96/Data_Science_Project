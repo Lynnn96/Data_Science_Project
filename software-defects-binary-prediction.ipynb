{
 "cells": [
  {
   "cell_type": "code",
   "execution_count": 1,
   "id": "60156e4c",
   "metadata": {
    "_cell_guid": "b1076dfc-b9ad-4769-8c92-a6c4dae69d19",
    "_uuid": "8f2839f25d086af736a60e9eeb907d3b93b6e0e5",
    "execution": {
     "iopub.execute_input": "2023-10-24T20:31:17.444635Z",
     "iopub.status.busy": "2023-10-24T20:31:17.444105Z",
     "iopub.status.idle": "2023-10-24T20:31:19.985678Z",
     "shell.execute_reply": "2023-10-24T20:31:19.984478Z"
    },
    "papermill": {
     "duration": 2.562694,
     "end_time": "2023-10-24T20:31:19.988408",
     "exception": false,
     "start_time": "2023-10-24T20:31:17.425714",
     "status": "completed"
    },
    "tags": []
   },
   "outputs": [],
   "source": [
    "import os\n",
    "import numpy as np \n",
    "import pandas as pd\n",
    "import matplotlib.pyplot as plt\n",
    "import seaborn as sns\n",
    "from scipy.stats import norm, skew, kurtosis\n",
    "\n",
    "from sklearn.linear_model import LogisticRegression\n",
    "from sklearn.model_selection import train_test_split\n",
    "from sklearn.metrics import roc_auc_score\n",
    "from sklearn.preprocessing import MinMaxScaler, Normalizer\n",
    "from sklearn.model_selection import GridSearchCV\n",
    "from scipy import stats\n",
    "\n",
    "import copy as copy"
   ]
  },
  {
   "cell_type": "code",
   "execution_count": 2,
   "id": "7bfa89bf",
   "metadata": {
    "execution": {
     "iopub.execute_input": "2023-10-24T20:31:20.022797Z",
     "iopub.status.busy": "2023-10-24T20:31:20.022223Z",
     "iopub.status.idle": "2023-10-24T20:31:20.934633Z",
     "shell.execute_reply": "2023-10-24T20:31:20.933291Z"
    },
    "papermill": {
     "duration": 0.932749,
     "end_time": "2023-10-24T20:31:20.937262",
     "exception": false,
     "start_time": "2023-10-24T20:31:20.004513",
     "status": "completed"
    },
    "tags": []
   },
   "outputs": [],
   "source": [
    "# read the data \n",
    "maindir = '/kaggle/input'\n",
    "filepath_lst = []\n",
    "\n",
    "for dirname, _, filenames in os.walk(maindir):\n",
    "    for filename in filenames:\n",
    "        filepath_lst.append(os.path.join(dirname, filename))\n",
    "\n",
    "submission = pd.read_csv(filepath_lst[0])\n",
    "train = pd.read_csv(filepath_lst[1])\n",
    "test = pd.read_csv(filepath_lst[2])\n"
   ]
  },
  {
   "cell_type": "markdown",
   "id": "bd798fc5",
   "metadata": {
    "papermill": {
     "duration": 0.016313,
     "end_time": "2023-10-24T20:31:20.969820",
     "exception": false,
     "start_time": "2023-10-24T20:31:20.953507",
     "status": "completed"
    },
    "tags": []
   },
   "source": [
    "# EDA"
   ]
  },
  {
   "cell_type": "code",
   "execution_count": 3,
   "id": "11c40d3e",
   "metadata": {
    "execution": {
     "iopub.execute_input": "2023-10-24T20:31:21.003546Z",
     "iopub.status.busy": "2023-10-24T20:31:21.002847Z",
     "iopub.status.idle": "2023-10-24T20:31:21.010934Z",
     "shell.execute_reply": "2023-10-24T20:31:21.009765Z"
    },
    "papermill": {
     "duration": 0.027835,
     "end_time": "2023-10-24T20:31:21.013434",
     "exception": false,
     "start_time": "2023-10-24T20:31:20.985599",
     "status": "completed"
    },
    "tags": []
   },
   "outputs": [
    {
     "data": {
      "text/plain": [
       "((67842, 2), (101763, 23), (67842, 22))"
      ]
     },
     "execution_count": 3,
     "metadata": {},
     "output_type": "execute_result"
    }
   ],
   "source": [
    "submission.shape, train.shape, test.shape"
   ]
  },
  {
   "cell_type": "code",
   "execution_count": 4,
   "id": "fd72eff7",
   "metadata": {
    "execution": {
     "iopub.execute_input": "2023-10-24T20:31:21.047342Z",
     "iopub.status.busy": "2023-10-24T20:31:21.046925Z",
     "iopub.status.idle": "2023-10-24T20:31:21.054584Z",
     "shell.execute_reply": "2023-10-24T20:31:21.053454Z"
    },
    "papermill": {
     "duration": 0.027414,
     "end_time": "2023-10-24T20:31:21.056940",
     "exception": false,
     "start_time": "2023-10-24T20:31:21.029526",
     "status": "completed"
    },
    "tags": []
   },
   "outputs": [
    {
     "data": {
      "text/plain": [
       "Index(['id', 'loc', 'v(g)', 'ev(g)', 'iv(g)', 'n', 'v', 'l', 'd', 'i', 'e',\n",
       "       'b', 't', 'lOCode', 'lOComment', 'lOBlank', 'locCodeAndComment',\n",
       "       'uniq_Op', 'uniq_Opnd', 'total_Op', 'total_Opnd', 'branchCount',\n",
       "       'defects'],\n",
       "      dtype='object')"
      ]
     },
     "execution_count": 4,
     "metadata": {},
     "output_type": "execute_result"
    }
   ],
   "source": [
    "train.columns"
   ]
  },
  {
   "cell_type": "code",
   "execution_count": 5,
   "id": "58597657",
   "metadata": {
    "execution": {
     "iopub.execute_input": "2023-10-24T20:31:21.091645Z",
     "iopub.status.busy": "2023-10-24T20:31:21.090923Z",
     "iopub.status.idle": "2023-10-24T20:31:21.105726Z",
     "shell.execute_reply": "2023-10-24T20:31:21.104575Z"
    },
    "papermill": {
     "duration": 0.034931,
     "end_time": "2023-10-24T20:31:21.108026",
     "exception": false,
     "start_time": "2023-10-24T20:31:21.073095",
     "status": "completed"
    },
    "tags": []
   },
   "outputs": [
    {
     "data": {
      "text/plain": [
       "id                     int64\n",
       "loc                  float64\n",
       "v(g)                 float64\n",
       "ev(g)                float64\n",
       "iv(g)                float64\n",
       "n                    float64\n",
       "v                    float64\n",
       "l                    float64\n",
       "d                    float64\n",
       "i                    float64\n",
       "e                    float64\n",
       "b                    float64\n",
       "t                    float64\n",
       "lOCode                 int64\n",
       "lOComment              int64\n",
       "lOBlank                int64\n",
       "locCodeAndComment      int64\n",
       "uniq_Op              float64\n",
       "uniq_Opnd            float64\n",
       "total_Op             float64\n",
       "total_Opnd           float64\n",
       "branchCount          float64\n",
       "defects                 bool\n",
       "dtype: object"
      ]
     },
     "execution_count": 5,
     "metadata": {},
     "output_type": "execute_result"
    }
   ],
   "source": [
    "train.dtypes"
   ]
  },
  {
   "cell_type": "code",
   "execution_count": 6,
   "id": "8a339f83",
   "metadata": {
    "execution": {
     "iopub.execute_input": "2023-10-24T20:31:21.143161Z",
     "iopub.status.busy": "2023-10-24T20:31:21.142476Z",
     "iopub.status.idle": "2023-10-24T20:31:21.176798Z",
     "shell.execute_reply": "2023-10-24T20:31:21.175970Z"
    },
    "papermill": {
     "duration": 0.055184,
     "end_time": "2023-10-24T20:31:21.179895",
     "exception": false,
     "start_time": "2023-10-24T20:31:21.124711",
     "status": "completed"
    },
    "tags": []
   },
   "outputs": [
    {
     "name": "stdout",
     "output_type": "stream",
     "text": [
      "<class 'pandas.core.frame.DataFrame'>\n",
      "RangeIndex: 101763 entries, 0 to 101762\n",
      "Data columns (total 23 columns):\n",
      " #   Column             Non-Null Count   Dtype  \n",
      "---  ------             --------------   -----  \n",
      " 0   id                 101763 non-null  int64  \n",
      " 1   loc                101763 non-null  float64\n",
      " 2   v(g)               101763 non-null  float64\n",
      " 3   ev(g)              101763 non-null  float64\n",
      " 4   iv(g)              101763 non-null  float64\n",
      " 5   n                  101763 non-null  float64\n",
      " 6   v                  101763 non-null  float64\n",
      " 7   l                  101763 non-null  float64\n",
      " 8   d                  101763 non-null  float64\n",
      " 9   i                  101763 non-null  float64\n",
      " 10  e                  101763 non-null  float64\n",
      " 11  b                  101763 non-null  float64\n",
      " 12  t                  101763 non-null  float64\n",
      " 13  lOCode             101763 non-null  int64  \n",
      " 14  lOComment          101763 non-null  int64  \n",
      " 15  lOBlank            101763 non-null  int64  \n",
      " 16  locCodeAndComment  101763 non-null  int64  \n",
      " 17  uniq_Op            101763 non-null  float64\n",
      " 18  uniq_Opnd          101763 non-null  float64\n",
      " 19  total_Op           101763 non-null  float64\n",
      " 20  total_Opnd         101763 non-null  float64\n",
      " 21  branchCount        101763 non-null  float64\n",
      " 22  defects            101763 non-null  bool   \n",
      "dtypes: bool(1), float64(17), int64(5)\n",
      "memory usage: 17.2 MB\n"
     ]
    }
   ],
   "source": [
    "train.info()"
   ]
  },
  {
   "cell_type": "code",
   "execution_count": 7,
   "id": "7875e6a7",
   "metadata": {
    "execution": {
     "iopub.execute_input": "2023-10-24T20:31:21.215004Z",
     "iopub.status.busy": "2023-10-24T20:31:21.214302Z",
     "iopub.status.idle": "2023-10-24T20:31:21.232974Z",
     "shell.execute_reply": "2023-10-24T20:31:21.231877Z"
    },
    "papermill": {
     "duration": 0.039545,
     "end_time": "2023-10-24T20:31:21.236015",
     "exception": false,
     "start_time": "2023-10-24T20:31:21.196470",
     "status": "completed"
    },
    "tags": []
   },
   "outputs": [],
   "source": [
    "features = train.drop(['defects','id'], axis = 1)\n",
    "target = train['defects']"
   ]
  },
  {
   "cell_type": "code",
   "execution_count": 8,
   "id": "03087da7",
   "metadata": {
    "execution": {
     "iopub.execute_input": "2023-10-24T20:31:21.271263Z",
     "iopub.status.busy": "2023-10-24T20:31:21.270846Z",
     "iopub.status.idle": "2023-10-24T20:31:21.286465Z",
     "shell.execute_reply": "2023-10-24T20:31:21.285236Z"
    },
    "papermill": {
     "duration": 0.036446,
     "end_time": "2023-10-24T20:31:21.289000",
     "exception": false,
     "start_time": "2023-10-24T20:31:21.252554",
     "status": "completed"
    },
    "tags": []
   },
   "outputs": [
    {
     "name": "stdout",
     "output_type": "stream",
     "text": [
      "['loc', 'v(g)', 'ev(g)', 'iv(g)', 'n', 'v', 'l', 'd', 'i', 'e', 'b', 't', 'uniq_Op', 'uniq_Opnd', 'total_Op', 'total_Opnd', 'branchCount']\n",
      "['lOCode', 'lOComment', 'lOBlank', 'locCodeAndComment']\n"
     ]
    }
   ],
   "source": [
    "float_features = features.select_dtypes(include = 'float').columns.tolist()\n",
    "int_features = features.select_dtypes(include = 'int').columns.tolist()\n",
    "print(float_features)\n",
    "print(int_features)"
   ]
  },
  {
   "cell_type": "code",
   "execution_count": 9,
   "id": "55e45a2a",
   "metadata": {
    "execution": {
     "iopub.execute_input": "2023-10-24T20:31:21.323825Z",
     "iopub.status.busy": "2023-10-24T20:31:21.323386Z",
     "iopub.status.idle": "2023-10-24T20:31:21.495257Z",
     "shell.execute_reply": "2023-10-24T20:31:21.494028Z"
    },
    "papermill": {
     "duration": 0.192391,
     "end_time": "2023-10-24T20:31:21.498144",
     "exception": false,
     "start_time": "2023-10-24T20:31:21.305753",
     "status": "completed"
    },
    "tags": []
   },
   "outputs": [
    {
     "data": {
      "text/html": [
       "<div>\n",
       "<style scoped>\n",
       "    .dataframe tbody tr th:only-of-type {\n",
       "        vertical-align: middle;\n",
       "    }\n",
       "\n",
       "    .dataframe tbody tr th {\n",
       "        vertical-align: top;\n",
       "    }\n",
       "\n",
       "    .dataframe thead th {\n",
       "        text-align: right;\n",
       "    }\n",
       "</style>\n",
       "<table border=\"1\" class=\"dataframe\">\n",
       "  <thead>\n",
       "    <tr style=\"text-align: right;\">\n",
       "      <th></th>\n",
       "      <th>count</th>\n",
       "      <th>mean</th>\n",
       "      <th>std</th>\n",
       "      <th>min</th>\n",
       "      <th>25%</th>\n",
       "      <th>50%</th>\n",
       "      <th>75%</th>\n",
       "      <th>max</th>\n",
       "    </tr>\n",
       "  </thead>\n",
       "  <tbody>\n",
       "    <tr>\n",
       "      <th>loc</th>\n",
       "      <td>101763.0</td>\n",
       "      <td>37.0</td>\n",
       "      <td>55.0</td>\n",
       "      <td>1.0</td>\n",
       "      <td>13.0</td>\n",
       "      <td>22.0</td>\n",
       "      <td>42.0</td>\n",
       "      <td>3442.0</td>\n",
       "    </tr>\n",
       "    <tr>\n",
       "      <th>v(g)</th>\n",
       "      <td>101763.0</td>\n",
       "      <td>5.0</td>\n",
       "      <td>8.0</td>\n",
       "      <td>1.0</td>\n",
       "      <td>2.0</td>\n",
       "      <td>3.0</td>\n",
       "      <td>6.0</td>\n",
       "      <td>404.0</td>\n",
       "    </tr>\n",
       "    <tr>\n",
       "      <th>ev(g)</th>\n",
       "      <td>101763.0</td>\n",
       "      <td>3.0</td>\n",
       "      <td>5.0</td>\n",
       "      <td>1.0</td>\n",
       "      <td>1.0</td>\n",
       "      <td>1.0</td>\n",
       "      <td>3.0</td>\n",
       "      <td>165.0</td>\n",
       "    </tr>\n",
       "    <tr>\n",
       "      <th>iv(g)</th>\n",
       "      <td>101763.0</td>\n",
       "      <td>3.0</td>\n",
       "      <td>6.0</td>\n",
       "      <td>1.0</td>\n",
       "      <td>1.0</td>\n",
       "      <td>2.0</td>\n",
       "      <td>4.0</td>\n",
       "      <td>402.0</td>\n",
       "    </tr>\n",
       "    <tr>\n",
       "      <th>n</th>\n",
       "      <td>101763.0</td>\n",
       "      <td>97.0</td>\n",
       "      <td>171.0</td>\n",
       "      <td>0.0</td>\n",
       "      <td>25.0</td>\n",
       "      <td>51.0</td>\n",
       "      <td>111.0</td>\n",
       "      <td>8441.0</td>\n",
       "    </tr>\n",
       "    <tr>\n",
       "      <th>v</th>\n",
       "      <td>101763.0</td>\n",
       "      <td>538.0</td>\n",
       "      <td>1271.0</td>\n",
       "      <td>0.0</td>\n",
       "      <td>98.0</td>\n",
       "      <td>233.0</td>\n",
       "      <td>560.0</td>\n",
       "      <td>80843.0</td>\n",
       "    </tr>\n",
       "    <tr>\n",
       "      <th>l</th>\n",
       "      <td>101763.0</td>\n",
       "      <td>0.0</td>\n",
       "      <td>0.0</td>\n",
       "      <td>0.0</td>\n",
       "      <td>0.0</td>\n",
       "      <td>0.0</td>\n",
       "      <td>0.0</td>\n",
       "      <td>1.0</td>\n",
       "    </tr>\n",
       "    <tr>\n",
       "      <th>d</th>\n",
       "      <td>101763.0</td>\n",
       "      <td>14.0</td>\n",
       "      <td>14.0</td>\n",
       "      <td>0.0</td>\n",
       "      <td>6.0</td>\n",
       "      <td>10.0</td>\n",
       "      <td>18.0</td>\n",
       "      <td>418.0</td>\n",
       "    </tr>\n",
       "    <tr>\n",
       "      <th>i</th>\n",
       "      <td>101763.0</td>\n",
       "      <td>28.0</td>\n",
       "      <td>23.0</td>\n",
       "      <td>0.0</td>\n",
       "      <td>16.0</td>\n",
       "      <td>23.0</td>\n",
       "      <td>34.0</td>\n",
       "      <td>570.0</td>\n",
       "    </tr>\n",
       "    <tr>\n",
       "      <th>e</th>\n",
       "      <td>101763.0</td>\n",
       "      <td>20854.0</td>\n",
       "      <td>190571.0</td>\n",
       "      <td>0.0</td>\n",
       "      <td>565.0</td>\n",
       "      <td>2256.0</td>\n",
       "      <td>10193.0</td>\n",
       "      <td>16846621.0</td>\n",
       "    </tr>\n",
       "    <tr>\n",
       "      <th>b</th>\n",
       "      <td>101763.0</td>\n",
       "      <td>0.0</td>\n",
       "      <td>0.0</td>\n",
       "      <td>0.0</td>\n",
       "      <td>0.0</td>\n",
       "      <td>0.0</td>\n",
       "      <td>0.0</td>\n",
       "      <td>27.0</td>\n",
       "    </tr>\n",
       "    <tr>\n",
       "      <th>t</th>\n",
       "      <td>101763.0</td>\n",
       "      <td>1141.0</td>\n",
       "      <td>9863.0</td>\n",
       "      <td>0.0</td>\n",
       "      <td>31.0</td>\n",
       "      <td>125.0</td>\n",
       "      <td>566.0</td>\n",
       "      <td>935923.0</td>\n",
       "    </tr>\n",
       "    <tr>\n",
       "      <th>lOCode</th>\n",
       "      <td>101763.0</td>\n",
       "      <td>23.0</td>\n",
       "      <td>39.0</td>\n",
       "      <td>0.0</td>\n",
       "      <td>7.0</td>\n",
       "      <td>14.0</td>\n",
       "      <td>26.0</td>\n",
       "      <td>2824.0</td>\n",
       "    </tr>\n",
       "    <tr>\n",
       "      <th>lOComment</th>\n",
       "      <td>101763.0</td>\n",
       "      <td>2.0</td>\n",
       "      <td>6.0</td>\n",
       "      <td>0.0</td>\n",
       "      <td>0.0</td>\n",
       "      <td>0.0</td>\n",
       "      <td>1.0</td>\n",
       "      <td>344.0</td>\n",
       "    </tr>\n",
       "    <tr>\n",
       "      <th>lOBlank</th>\n",
       "      <td>101763.0</td>\n",
       "      <td>4.0</td>\n",
       "      <td>6.0</td>\n",
       "      <td>0.0</td>\n",
       "      <td>1.0</td>\n",
       "      <td>2.0</td>\n",
       "      <td>5.0</td>\n",
       "      <td>219.0</td>\n",
       "    </tr>\n",
       "    <tr>\n",
       "      <th>locCodeAndComment</th>\n",
       "      <td>101763.0</td>\n",
       "      <td>0.0</td>\n",
       "      <td>1.0</td>\n",
       "      <td>0.0</td>\n",
       "      <td>0.0</td>\n",
       "      <td>0.0</td>\n",
       "      <td>0.0</td>\n",
       "      <td>43.0</td>\n",
       "    </tr>\n",
       "    <tr>\n",
       "      <th>uniq_Op</th>\n",
       "      <td>101763.0</td>\n",
       "      <td>12.0</td>\n",
       "      <td>7.0</td>\n",
       "      <td>0.0</td>\n",
       "      <td>8.0</td>\n",
       "      <td>11.0</td>\n",
       "      <td>16.0</td>\n",
       "      <td>410.0</td>\n",
       "    </tr>\n",
       "    <tr>\n",
       "      <th>uniq_Opnd</th>\n",
       "      <td>101763.0</td>\n",
       "      <td>16.0</td>\n",
       "      <td>18.0</td>\n",
       "      <td>0.0</td>\n",
       "      <td>7.0</td>\n",
       "      <td>12.0</td>\n",
       "      <td>20.0</td>\n",
       "      <td>1026.0</td>\n",
       "    </tr>\n",
       "    <tr>\n",
       "      <th>total_Op</th>\n",
       "      <td>101763.0</td>\n",
       "      <td>58.0</td>\n",
       "      <td>105.0</td>\n",
       "      <td>0.0</td>\n",
       "      <td>15.0</td>\n",
       "      <td>30.0</td>\n",
       "      <td>66.0</td>\n",
       "      <td>5420.0</td>\n",
       "    </tr>\n",
       "    <tr>\n",
       "      <th>total_Opnd</th>\n",
       "      <td>101763.0</td>\n",
       "      <td>39.0</td>\n",
       "      <td>72.0</td>\n",
       "      <td>0.0</td>\n",
       "      <td>10.0</td>\n",
       "      <td>20.0</td>\n",
       "      <td>45.0</td>\n",
       "      <td>3021.0</td>\n",
       "    </tr>\n",
       "    <tr>\n",
       "      <th>branchCount</th>\n",
       "      <td>101763.0</td>\n",
       "      <td>10.0</td>\n",
       "      <td>14.0</td>\n",
       "      <td>1.0</td>\n",
       "      <td>3.0</td>\n",
       "      <td>5.0</td>\n",
       "      <td>11.0</td>\n",
       "      <td>503.0</td>\n",
       "    </tr>\n",
       "  </tbody>\n",
       "</table>\n",
       "</div>"
      ],
      "text/plain": [
       "                      count     mean       std  min    25%     50%      75%  \\\n",
       "loc                101763.0     37.0      55.0  1.0   13.0    22.0     42.0   \n",
       "v(g)               101763.0      5.0       8.0  1.0    2.0     3.0      6.0   \n",
       "ev(g)              101763.0      3.0       5.0  1.0    1.0     1.0      3.0   \n",
       "iv(g)              101763.0      3.0       6.0  1.0    1.0     2.0      4.0   \n",
       "n                  101763.0     97.0     171.0  0.0   25.0    51.0    111.0   \n",
       "v                  101763.0    538.0    1271.0  0.0   98.0   233.0    560.0   \n",
       "l                  101763.0      0.0       0.0  0.0    0.0     0.0      0.0   \n",
       "d                  101763.0     14.0      14.0  0.0    6.0    10.0     18.0   \n",
       "i                  101763.0     28.0      23.0  0.0   16.0    23.0     34.0   \n",
       "e                  101763.0  20854.0  190571.0  0.0  565.0  2256.0  10193.0   \n",
       "b                  101763.0      0.0       0.0  0.0    0.0     0.0      0.0   \n",
       "t                  101763.0   1141.0    9863.0  0.0   31.0   125.0    566.0   \n",
       "lOCode             101763.0     23.0      39.0  0.0    7.0    14.0     26.0   \n",
       "lOComment          101763.0      2.0       6.0  0.0    0.0     0.0      1.0   \n",
       "lOBlank            101763.0      4.0       6.0  0.0    1.0     2.0      5.0   \n",
       "locCodeAndComment  101763.0      0.0       1.0  0.0    0.0     0.0      0.0   \n",
       "uniq_Op            101763.0     12.0       7.0  0.0    8.0    11.0     16.0   \n",
       "uniq_Opnd          101763.0     16.0      18.0  0.0    7.0    12.0     20.0   \n",
       "total_Op           101763.0     58.0     105.0  0.0   15.0    30.0     66.0   \n",
       "total_Opnd         101763.0     39.0      72.0  0.0   10.0    20.0     45.0   \n",
       "branchCount        101763.0     10.0      14.0  1.0    3.0     5.0     11.0   \n",
       "\n",
       "                          max  \n",
       "loc                    3442.0  \n",
       "v(g)                    404.0  \n",
       "ev(g)                   165.0  \n",
       "iv(g)                   402.0  \n",
       "n                      8441.0  \n",
       "v                     80843.0  \n",
       "l                         1.0  \n",
       "d                       418.0  \n",
       "i                       570.0  \n",
       "e                  16846621.0  \n",
       "b                        27.0  \n",
       "t                    935923.0  \n",
       "lOCode                 2824.0  \n",
       "lOComment               344.0  \n",
       "lOBlank                 219.0  \n",
       "locCodeAndComment        43.0  \n",
       "uniq_Op                 410.0  \n",
       "uniq_Opnd              1026.0  \n",
       "total_Op               5420.0  \n",
       "total_Opnd             3021.0  \n",
       "branchCount             503.0  "
      ]
     },
     "execution_count": 9,
     "metadata": {},
     "output_type": "execute_result"
    }
   ],
   "source": [
    "features.describe().round().T"
   ]
  },
  {
   "cell_type": "code",
   "execution_count": 10,
   "id": "fb4ef6f0",
   "metadata": {
    "execution": {
     "iopub.execute_input": "2023-10-24T20:31:21.534850Z",
     "iopub.status.busy": "2023-10-24T20:31:21.534434Z",
     "iopub.status.idle": "2023-10-24T20:31:21.541057Z",
     "shell.execute_reply": "2023-10-24T20:31:21.540002Z"
    },
    "papermill": {
     "duration": 0.028104,
     "end_time": "2023-10-24T20:31:21.543359",
     "exception": false,
     "start_time": "2023-10-24T20:31:21.515255",
     "status": "completed"
    },
    "tags": []
   },
   "outputs": [
    {
     "data": {
      "text/plain": [
       "'loc'"
      ]
     },
     "execution_count": 10,
     "metadata": {},
     "output_type": "execute_result"
    }
   ],
   "source": [
    "features.columns.tolist()[0]"
   ]
  },
  {
   "cell_type": "markdown",
   "id": "566cb704",
   "metadata": {
    "papermill": {
     "duration": 0.016798,
     "end_time": "2023-10-24T20:31:21.578088",
     "exception": false,
     "start_time": "2023-10-24T20:31:21.561290",
     "status": "completed"
    },
    "tags": []
   },
   "source": [
    "- outliers, feature scaling"
   ]
  },
  {
   "cell_type": "code",
   "execution_count": 11,
   "id": "e7e7d22b",
   "metadata": {
    "execution": {
     "iopub.execute_input": "2023-10-24T20:31:21.675367Z",
     "iopub.status.busy": "2023-10-24T20:31:21.674892Z",
     "iopub.status.idle": "2023-10-24T20:31:21.680518Z",
     "shell.execute_reply": "2023-10-24T20:31:21.679346Z"
    },
    "papermill": {
     "duration": 0.026447,
     "end_time": "2023-10-24T20:31:21.682837",
     "exception": false,
     "start_time": "2023-10-24T20:31:21.656390",
     "status": "completed"
    },
    "tags": []
   },
   "outputs": [],
   "source": [
    "# # check feature distribution\n",
    "# fig, axes = plt.subplots(3,6, figsize = (15,6), constrained_layout = True)\n",
    "# axes = axes.flatten()\n",
    "\n",
    "# for i,j in zip(float_features,axes):\n",
    "    \n",
    "#     sns.kdeplot(train, x=i, ax = j, hue = \"defects\")\n",
    "#     (mu, sigma) = norm.fit(train[i])\n",
    "#     xmin, xmax = j.get_xlim()[0], j.get_xlim()[1]\n",
    "#     x = np.linspace(xmin, xmax, 100)\n",
    "#     p = norm.pdf(x, mu, sigma)\n",
    "#     j.plot(x, p, 'k')"
   ]
  },
  {
   "cell_type": "markdown",
   "id": "8002b579",
   "metadata": {
    "papermill": {
     "duration": 0.017774,
     "end_time": "2023-10-24T20:31:21.717813",
     "exception": false,
     "start_time": "2023-10-24T20:31:21.700039",
     "status": "completed"
    },
    "tags": []
   },
   "source": [
    "- what the distribution plots tell us:\n",
    "\n",
    "1) number of false cases > number of true classes -> class imbalance -> check distribution after solving the class imbalance issue.\n",
    "\n",
    "2) data distribution is close to normal distribution, but with higher peaks. \n",
    "\n",
    "3) feature values are at similar scales. feature scaling might not be necessary or helpful.\n",
    "\n",
    "4) outliers. "
   ]
  },
  {
   "cell_type": "code",
   "execution_count": 12,
   "id": "6a21e297",
   "metadata": {
    "execution": {
     "iopub.execute_input": "2023-10-24T20:31:21.755089Z",
     "iopub.status.busy": "2023-10-24T20:31:21.754650Z",
     "iopub.status.idle": "2023-10-24T20:31:21.759315Z",
     "shell.execute_reply": "2023-10-24T20:31:21.758258Z"
    },
    "papermill": {
     "duration": 0.025644,
     "end_time": "2023-10-24T20:31:21.761700",
     "exception": false,
     "start_time": "2023-10-24T20:31:21.736056",
     "status": "completed"
    },
    "tags": []
   },
   "outputs": [],
   "source": [
    "# # check for class imbalance\n",
    "# train.groupby('defects')['id'].count()/train.shape[0]*100"
   ]
  },
  {
   "cell_type": "code",
   "execution_count": 13,
   "id": "e648602b",
   "metadata": {
    "execution": {
     "iopub.execute_input": "2023-10-24T20:31:21.798109Z",
     "iopub.status.busy": "2023-10-24T20:31:21.797731Z",
     "iopub.status.idle": "2023-10-24T20:31:21.802271Z",
     "shell.execute_reply": "2023-10-24T20:31:21.801136Z"
    },
    "papermill": {
     "duration": 0.02546,
     "end_time": "2023-10-24T20:31:21.804524",
     "exception": false,
     "start_time": "2023-10-24T20:31:21.779064",
     "status": "completed"
    },
    "tags": []
   },
   "outputs": [],
   "source": [
    "# # check feature correlations with target\n",
    "# corr = features.corrwith(target).to_frame()\n",
    "# corr['abs_corr'] = corr.abs()\n",
    "# corr.rename(columns = {0:'corr'}, inplace = True)\n",
    "# corr.sort_values(by = 'abs_corr', ascending = 0)"
   ]
  },
  {
   "cell_type": "code",
   "execution_count": 14,
   "id": "6398955b",
   "metadata": {
    "execution": {
     "iopub.execute_input": "2023-10-24T20:31:21.840827Z",
     "iopub.status.busy": "2023-10-24T20:31:21.840417Z",
     "iopub.status.idle": "2023-10-24T20:31:21.845383Z",
     "shell.execute_reply": "2023-10-24T20:31:21.844320Z"
    },
    "papermill": {
     "duration": 0.025632,
     "end_time": "2023-10-24T20:31:21.847532",
     "exception": false,
     "start_time": "2023-10-24T20:31:21.821900",
     "status": "completed"
    },
    "tags": []
   },
   "outputs": [],
   "source": [
    "# feature_corr = features.corr().abs()\n",
    "# feature_corr_v2 = feature_corr.unstack().sort_values(ascending = False).to_frame().reset_index()\n",
    "# feature_corr_v2 = feature_corr_v2[feature_corr_v2['level_0']!=feature_corr_v2['level_1']]\n",
    "# feature_corr_v2"
   ]
  },
  {
   "cell_type": "code",
   "execution_count": 15,
   "id": "510c4f68",
   "metadata": {
    "execution": {
     "iopub.execute_input": "2023-10-24T20:31:21.885873Z",
     "iopub.status.busy": "2023-10-24T20:31:21.885511Z",
     "iopub.status.idle": "2023-10-24T20:31:21.890300Z",
     "shell.execute_reply": "2023-10-24T20:31:21.889181Z"
    },
    "papermill": {
     "duration": 0.02704,
     "end_time": "2023-10-24T20:31:21.892529",
     "exception": false,
     "start_time": "2023-10-24T20:31:21.865489",
     "status": "completed"
    },
    "tags": []
   },
   "outputs": [],
   "source": [
    "# feature_corr_mask = np.triu(feature_corr,k=0)\n",
    "\n",
    "# plt.figure(figsize=(16,8))\n",
    "# sns.heatmap(feature_corr,\n",
    "#            mask = feature_corr_mask,\n",
    "#            annot = True,\n",
    "#            fmt = '.1f',\n",
    "#            cmap = 'coolwarm',\n",
    "#            linewidth = 0.1,\n",
    "#            cbar = True\n",
    "#            )\n",
    "\n",
    "# plt.suptitle(\"Features Correlation Heatmap\", weight = 'bold', size = 20)\n",
    "# plt.tight_layout()"
   ]
  },
  {
   "cell_type": "markdown",
   "id": "2ee5565b",
   "metadata": {
    "papermill": {
     "duration": 0.016832,
     "end_time": "2023-10-24T20:31:21.926433",
     "exception": false,
     "start_time": "2023-10-24T20:31:21.909601",
     "status": "completed"
    },
    "tags": []
   },
   "source": [
    "- there are several pairs of features that are highly correlated with each other; need to either remove, or use dimension deduction techniques to condense information, or choose tree-method which is immune to feature correlation.\n",
    "\n",
    "- variables that are highly-correlated with other features: loc, n, v, d, b, IOCode, uniq_Opnd, total_Op, total_Opnd\n",
    "\n",
    "1) loc & v(g); v(g) & ev(g); n & v\n",
    "2) loc & iv(g); v(g) & iv(g); n & d\n",
    "3) loc & n; v(g) & branchCount; n & i\n",
    "4) loc & v; n & b;\n",
    "5) loc & b; n & IOCode\n",
    "6) loc & IOCode; n & IOBlank\n",
    "7) loc & IOBlank; n & Uniq_Opnd\n",
    "8) loc & total_Op; n & total_Op;\n",
    "9) loc & total_Opnd; n & total_Opnd\n",
    "10) loc & branchCount.."
   ]
  },
  {
   "cell_type": "code",
   "execution_count": 16,
   "id": "da71962e",
   "metadata": {
    "execution": {
     "iopub.execute_input": "2023-10-24T20:31:21.962655Z",
     "iopub.status.busy": "2023-10-24T20:31:21.962286Z",
     "iopub.status.idle": "2023-10-24T20:31:21.966761Z",
     "shell.execute_reply": "2023-10-24T20:31:21.965620Z"
    },
    "papermill": {
     "duration": 0.025495,
     "end_time": "2023-10-24T20:31:21.969288",
     "exception": false,
     "start_time": "2023-10-24T20:31:21.943793",
     "status": "completed"
    },
    "tags": []
   },
   "outputs": [],
   "source": [
    "# high_corr_features = feature_corr_v2[feature_corr_v2[0]>0.8]\n",
    "# high_corr_features.head(3)"
   ]
  },
  {
   "cell_type": "code",
   "execution_count": 17,
   "id": "48f1cd24",
   "metadata": {
    "execution": {
     "iopub.execute_input": "2023-10-24T20:31:22.006364Z",
     "iopub.status.busy": "2023-10-24T20:31:22.005960Z",
     "iopub.status.idle": "2023-10-24T20:31:22.010397Z",
     "shell.execute_reply": "2023-10-24T20:31:22.009272Z"
    },
    "papermill": {
     "duration": 0.025168,
     "end_time": "2023-10-24T20:31:22.012712",
     "exception": false,
     "start_time": "2023-10-24T20:31:21.987544",
     "status": "completed"
    },
    "tags": []
   },
   "outputs": [],
   "source": [
    "# high_corr_features.reset_index().loc[0,'level_0']"
   ]
  },
  {
   "cell_type": "code",
   "execution_count": 18,
   "id": "835b479e",
   "metadata": {
    "execution": {
     "iopub.execute_input": "2023-10-24T20:31:22.050093Z",
     "iopub.status.busy": "2023-10-24T20:31:22.049317Z",
     "iopub.status.idle": "2023-10-24T20:31:22.054655Z",
     "shell.execute_reply": "2023-10-24T20:31:22.053768Z"
    },
    "papermill": {
     "duration": 0.027024,
     "end_time": "2023-10-24T20:31:22.056932",
     "exception": false,
     "start_time": "2023-10-24T20:31:22.029908",
     "status": "completed"
    },
    "tags": []
   },
   "outputs": [],
   "source": [
    "# # examine if outliers are the reasons why features are highly-correlated with each other\n",
    "\n",
    "# fig, axes = plt.subplots(4,6, figsize = (16,6))\n",
    "# axes = axes.flatten()\n",
    "\n",
    "# i = 0\n",
    "# for row in range(0,48,2):\n",
    "#     feature_a = high_corr_features.reset_index(drop = True).loc[row, ['level_0','level_1']][0]\n",
    "#     feature_b = high_corr_features.reset_index(drop = True).loc[row, ['level_0','level_1']][1]\n",
    "    \n",
    "#     sns.regplot(features, x = feature_a, y = feature_b, ci = None, order = 1, ax = axes[i], scatter_kws={'color':'red', 's':1.5}, line_kws={'color':'black', 'linewidth':1.5})\n",
    "    \n",
    "#     i+=1\n",
    "\n",
    "# plt.tight_layout()\n",
    "    "
   ]
  },
  {
   "cell_type": "code",
   "execution_count": 19,
   "id": "83139030",
   "metadata": {
    "execution": {
     "iopub.execute_input": "2023-10-24T20:31:22.093703Z",
     "iopub.status.busy": "2023-10-24T20:31:22.093307Z",
     "iopub.status.idle": "2023-10-24T20:31:22.098619Z",
     "shell.execute_reply": "2023-10-24T20:31:22.097427Z"
    },
    "papermill": {
     "duration": 0.026827,
     "end_time": "2023-10-24T20:31:22.101090",
     "exception": false,
     "start_time": "2023-10-24T20:31:22.074263",
     "status": "completed"
    },
    "tags": []
   },
   "outputs": [],
   "source": [
    "# # regplots after deweighting outliers\n",
    "# fig, axes = plt.subplots(4, 6, figsize = (16, 8))\n",
    "# axes = axes.flatten()\n",
    "\n",
    "# i = 0 \n",
    "# for row in range(0,48,2):\n",
    "#     feature_a = high_corr_features.reset_index(drop=True).loc[row, 'level_0']\n",
    "#     feature_b = high_corr_features.reset_index(drop=True).loc[row, 'level_1']\n",
    "    \n",
    "#     sns.regplot(features, x = feature_a, y = feature_b, order = 1, robust = True, scatter_kws={'color':'red', 's':1.5}, line_kws={'color':'black', 'linewidth':1.5})\n",
    "    \n",
    "#     i+=1\n",
    "\n",
    "# plt.tight_layout()"
   ]
  },
  {
   "cell_type": "markdown",
   "id": "bcc72e9e",
   "metadata": {
    "papermill": {
     "duration": 0.017725,
     "end_time": "2023-10-24T20:31:22.136309",
     "exception": false,
     "start_time": "2023-10-24T20:31:22.118584",
     "status": "completed"
    },
    "tags": []
   },
   "source": [
    "- regplot with robust = True takes reallllllly long time to run...better be worth the time. \n",
    "- take too much time to run, give up"
   ]
  },
  {
   "cell_type": "markdown",
   "id": "035530de",
   "metadata": {
    "papermill": {
     "duration": 0.017503,
     "end_time": "2023-10-24T20:31:22.171126",
     "exception": false,
     "start_time": "2023-10-24T20:31:22.153623",
     "status": "completed"
    },
    "tags": []
   },
   "source": [
    "# Build Baseline Model"
   ]
  },
  {
   "cell_type": "code",
   "execution_count": 20,
   "id": "d58196ad",
   "metadata": {
    "execution": {
     "iopub.execute_input": "2023-10-24T20:31:22.207234Z",
     "iopub.status.busy": "2023-10-24T20:31:22.206853Z",
     "iopub.status.idle": "2023-10-24T20:31:22.216130Z",
     "shell.execute_reply": "2023-10-24T20:31:22.214925Z"
    },
    "papermill": {
     "duration": 0.030261,
     "end_time": "2023-10-24T20:31:22.218732",
     "exception": false,
     "start_time": "2023-10-24T20:31:22.188471",
     "status": "completed"
    },
    "tags": []
   },
   "outputs": [
    {
     "data": {
      "text/plain": [
       "{True: 2.2061004162330904, False: 0.6465329927953342}"
      ]
     },
     "execution_count": 20,
     "metadata": {},
     "output_type": "execute_result"
    }
   ],
   "source": [
    "# deal with class imbalance issue \n",
    "## upsampling\n",
    "from sklearn.utils import resample\n",
    "\n",
    "# pos_df = train[train['defects']==True]\n",
    "# neg_df = train[train['defects']==False]\n",
    "\n",
    "# pos_upsampled_df = resample(pos_df, replace = True, n_samples = neg_df.shape[0], random_state = 42, stratify = None)\n",
    "# train_upsampled = pd.concat([pos_upsampled_df, neg_df], axis = 0)\n",
    "# features = train_upsampled.drop(['defects','id'], axis = 1)\n",
    "# target = train_upsampled['defects']\n",
    "\n",
    "\n",
    "# SMOTE\n",
    "# from imblearn.over_sampling import SMOTE\n",
    "# sm = SMOTE(sampling_strategy = 'auto', random_state = 42, k_neighbors = 5)\n",
    "# features_res, target_res = sm.fit_resample(features, target)\n",
    "\n",
    "# adjust class weight in logistic regression and assign more weights to minority class\n",
    "n_samples = features.shape[0]\n",
    "class_weights = n_samples/(2*np.bincount(target))\n",
    "class_weights_dict = {\n",
    "    True:class_weights[1],\n",
    "    False:class_weights[0]\n",
    "}\n",
    "class_weights_dict"
   ]
  },
  {
   "cell_type": "markdown",
   "id": "6410ead2",
   "metadata": {
    "papermill": {
     "duration": 0.020424,
     "end_time": "2023-10-24T20:31:22.262782",
     "exception": false,
     "start_time": "2023-10-24T20:31:22.242358",
     "status": "completed"
    },
    "tags": []
   },
   "source": [
    "## Feature Engineering"
   ]
  },
  {
   "cell_type": "code",
   "execution_count": 21,
   "id": "1afb459d",
   "metadata": {
    "execution": {
     "iopub.execute_input": "2023-10-24T20:31:22.310331Z",
     "iopub.status.busy": "2023-10-24T20:31:22.309088Z",
     "iopub.status.idle": "2023-10-24T20:31:22.316664Z",
     "shell.execute_reply": "2023-10-24T20:31:22.315613Z"
    },
    "papermill": {
     "duration": 0.03213,
     "end_time": "2023-10-24T20:31:22.318949",
     "exception": false,
     "start_time": "2023-10-24T20:31:22.286819",
     "status": "completed"
    },
    "tags": []
   },
   "outputs": [
    {
     "data": {
      "text/plain": [
       "Index(['loc', 'v(g)', 'ev(g)', 'iv(g)', 'n', 'v', 'l', 'd', 'i', 'e', 'b', 't',\n",
       "       'lOCode', 'lOComment', 'lOBlank', 'locCodeAndComment', 'uniq_Op',\n",
       "       'uniq_Opnd', 'total_Op', 'total_Opnd', 'branchCount'],\n",
       "      dtype='object')"
      ]
     },
     "execution_count": 21,
     "metadata": {},
     "output_type": "execute_result"
    }
   ],
   "source": [
    "features.columns"
   ]
  },
  {
   "cell_type": "code",
   "execution_count": 22,
   "id": "06c2b268",
   "metadata": {
    "execution": {
     "iopub.execute_input": "2023-10-24T20:31:22.356638Z",
     "iopub.status.busy": "2023-10-24T20:31:22.356128Z",
     "iopub.status.idle": "2023-10-24T20:31:22.363369Z",
     "shell.execute_reply": "2023-10-24T20:31:22.362209Z"
    },
    "papermill": {
     "duration": 0.028761,
     "end_time": "2023-10-24T20:31:22.365838",
     "exception": false,
     "start_time": "2023-10-24T20:31:22.337077",
     "status": "completed"
    },
    "tags": []
   },
   "outputs": [],
   "source": [
    "# read from others' notebook\n",
    "features['loc+lOBlank'] = features['loc'] + features['lOBlank']"
   ]
  },
  {
   "cell_type": "code",
   "execution_count": 23,
   "id": "ca0dfa2f",
   "metadata": {
    "execution": {
     "iopub.execute_input": "2023-10-24T20:31:22.416513Z",
     "iopub.status.busy": "2023-10-24T20:31:22.415942Z",
     "iopub.status.idle": "2023-10-24T20:31:22.422307Z",
     "shell.execute_reply": "2023-10-24T20:31:22.420645Z"
    },
    "papermill": {
     "duration": 0.036368,
     "end_time": "2023-10-24T20:31:22.426091",
     "exception": false,
     "start_time": "2023-10-24T20:31:22.389723",
     "status": "completed"
    },
    "tags": []
   },
   "outputs": [],
   "source": [
    "# from scipy import stats\n",
    "\n",
    "# def calculate_biserial_corr(column, target:pd.Series):\n",
    "#     return stats.pointbiserialr(column, target)\n",
    "\n",
    "# biserial_corr = features.apply(lambda column: calculate_biserial_corr(column, target), axis = 0, raw = False).T\n",
    "# biserial_corr.rename(columns = {0:'biserial_corr', 1:'p-value'}, inplace = True)\n",
    "# biserial_corr['abs_biserial_corr'] = biserial_corr['biserial_corr'].abs()\n",
    "# biserial_corr = biserial_corr[['abs_biserial_corr','biserial_corr', 'p-value']]\n",
    "# biserial_corr.sort_values('abs_biserial_corr', axis = 0, ascending = 0)"
   ]
  },
  {
   "cell_type": "markdown",
   "id": "bf0e4b37",
   "metadata": {
    "papermill": {
     "duration": 0.025558,
     "end_time": "2023-10-24T20:31:22.475350",
     "exception": false,
     "start_time": "2023-10-24T20:31:22.449792",
     "status": "completed"
    },
    "tags": []
   },
   "source": [
    "- all variables are significantly correlated with target variables"
   ]
  },
  {
   "cell_type": "code",
   "execution_count": 24,
   "id": "a4c7e17f",
   "metadata": {
    "execution": {
     "iopub.execute_input": "2023-10-24T20:31:22.526915Z",
     "iopub.status.busy": "2023-10-24T20:31:22.526343Z",
     "iopub.status.idle": "2023-10-24T20:31:22.531303Z",
     "shell.execute_reply": "2023-10-24T20:31:22.530111Z"
    },
    "papermill": {
     "duration": 0.032683,
     "end_time": "2023-10-24T20:31:22.533821",
     "exception": false,
     "start_time": "2023-10-24T20:31:22.501138",
     "status": "completed"
    },
    "tags": []
   },
   "outputs": [],
   "source": [
    "# plt.figure(figsize=(20,12))\n",
    "# sns.pairplot(data = train, vars = float_features, diag_kind='kde',\n",
    "#             kind = 'scatter', hue = 'defects')\n",
    "# plt.show()\n",
    "# plt.tight_layout()"
   ]
  },
  {
   "cell_type": "code",
   "execution_count": 25,
   "id": "b9cd1e3d",
   "metadata": {
    "execution": {
     "iopub.execute_input": "2023-10-24T20:31:22.572517Z",
     "iopub.status.busy": "2023-10-24T20:31:22.571722Z",
     "iopub.status.idle": "2023-10-24T20:31:22.576664Z",
     "shell.execute_reply": "2023-10-24T20:31:22.575498Z"
    },
    "papermill": {
     "duration": 0.027434,
     "end_time": "2023-10-24T20:31:22.579096",
     "exception": false,
     "start_time": "2023-10-24T20:31:22.551662",
     "status": "completed"
    },
    "tags": []
   },
   "outputs": [],
   "source": [
    "# plt.figure(figsize=(20,12))\n",
    "# sns.pairplot(data = train, vars = int_features, diag_kind='kde',\n",
    "#             kind = 'scatter', hue = 'defects')\n",
    "# plt.show()\n",
    "# plt.tight_layout()"
   ]
  },
  {
   "cell_type": "code",
   "execution_count": 26,
   "id": "b70c5e06",
   "metadata": {
    "execution": {
     "iopub.execute_input": "2023-10-24T20:31:22.620155Z",
     "iopub.status.busy": "2023-10-24T20:31:22.618787Z",
     "iopub.status.idle": "2023-10-24T20:31:22.625237Z",
     "shell.execute_reply": "2023-10-24T20:31:22.623857Z"
    },
    "papermill": {
     "duration": 0.031372,
     "end_time": "2023-10-24T20:31:22.629283",
     "exception": false,
     "start_time": "2023-10-24T20:31:22.597911",
     "status": "completed"
    },
    "tags": []
   },
   "outputs": [],
   "source": [
    "# # plot the scatter plot for all feature-pairs\n",
    "# from itertools import combinations\n",
    "\n",
    "# feature_pairs = list(combinations(features.columns,2))"
   ]
  },
  {
   "cell_type": "code",
   "execution_count": 27,
   "id": "990a2552",
   "metadata": {
    "execution": {
     "iopub.execute_input": "2023-10-24T20:31:22.669841Z",
     "iopub.status.busy": "2023-10-24T20:31:22.668929Z",
     "iopub.status.idle": "2023-10-24T20:31:22.673764Z",
     "shell.execute_reply": "2023-10-24T20:31:22.672736Z"
    },
    "papermill": {
     "duration": 0.028329,
     "end_time": "2023-10-24T20:31:22.676349",
     "exception": false,
     "start_time": "2023-10-24T20:31:22.648020",
     "status": "completed"
    },
    "tags": []
   },
   "outputs": [],
   "source": [
    "# len(feature_pairs)"
   ]
  },
  {
   "cell_type": "code",
   "execution_count": 28,
   "id": "c39fcb08",
   "metadata": {
    "execution": {
     "iopub.execute_input": "2023-10-24T20:31:22.717137Z",
     "iopub.status.busy": "2023-10-24T20:31:22.716507Z",
     "iopub.status.idle": "2023-10-24T20:31:22.726493Z",
     "shell.execute_reply": "2023-10-24T20:31:22.725382Z"
    },
    "papermill": {
     "duration": 0.031826,
     "end_time": "2023-10-24T20:31:22.728843",
     "exception": false,
     "start_time": "2023-10-24T20:31:22.697017",
     "status": "completed"
    },
    "tags": []
   },
   "outputs": [
    {
     "data": {
      "text/plain": [
       "array([False,  True])"
      ]
     },
     "execution_count": 28,
     "metadata": {},
     "output_type": "execute_result"
    }
   ],
   "source": [
    "target.unique()"
   ]
  },
  {
   "cell_type": "code",
   "execution_count": 29,
   "id": "91d3c07f",
   "metadata": {
    "execution": {
     "iopub.execute_input": "2023-10-24T20:31:22.767041Z",
     "iopub.status.busy": "2023-10-24T20:31:22.766393Z",
     "iopub.status.idle": "2023-10-24T20:31:22.771070Z",
     "shell.execute_reply": "2023-10-24T20:31:22.770276Z"
    },
    "papermill": {
     "duration": 0.026873,
     "end_time": "2023-10-24T20:31:22.773428",
     "exception": false,
     "start_time": "2023-10-24T20:31:22.746555",
     "status": "completed"
    },
    "tags": []
   },
   "outputs": [],
   "source": [
    "# # before scaling & normalization \n",
    "# fig, axes = plt.subplots(5,5, figsize=(16,8), constrained_layout = True)\n",
    "# axes = axes.flatten()\n",
    "\n",
    "# for i in range(21):\n",
    "#     sns.boxplot(data = train.drop(['id'],axis = 1), x = features.columns.tolist()[i], ax = axes[i])"
   ]
  },
  {
   "cell_type": "code",
   "execution_count": 30,
   "id": "1f755123",
   "metadata": {
    "execution": {
     "iopub.execute_input": "2023-10-24T20:31:22.811228Z",
     "iopub.status.busy": "2023-10-24T20:31:22.810804Z",
     "iopub.status.idle": "2023-10-24T20:31:22.816142Z",
     "shell.execute_reply": "2023-10-24T20:31:22.814788Z"
    },
    "papermill": {
     "duration": 0.027081,
     "end_time": "2023-10-24T20:31:22.818588",
     "exception": false,
     "start_time": "2023-10-24T20:31:22.791507",
     "status": "completed"
    },
    "tags": []
   },
   "outputs": [],
   "source": [
    "# # after scaling & normalization \n",
    "# fig, axes = plt.subplots(5,5, figsize=(16,8), constrained_layout = True)\n",
    "# axes = axes.flatten()\n",
    "\n",
    "# train_copy = copy.deepcopy(train)\n",
    "# FEATURES = train_copy.drop(['id','defects'], axis = 1)\n",
    "\n",
    "\n",
    "# for i in range(FEATURES.shape[1]):\n",
    "#     FEATURES.iloc[:,i] = stats.boxcox(FEATURES.iloc[:,i]+1e-13)[0]\n",
    "\n",
    "# # standardization\n",
    "# MMS = MinMaxScaler()\n",
    "# MMS.fit(FEATURES)\n",
    "# FEATURES_scaled = MMS.transform(FEATURES)\n",
    "\n",
    "# for i in range(21):\n",
    "#     sns.boxplot(data = FEATURES, x = FEATURES.columns.tolist()[i], ax = axes[i])"
   ]
  },
  {
   "cell_type": "code",
   "execution_count": 31,
   "id": "74009446",
   "metadata": {
    "execution": {
     "iopub.execute_input": "2023-10-24T20:31:22.858803Z",
     "iopub.status.busy": "2023-10-24T20:31:22.857708Z",
     "iopub.status.idle": "2023-10-24T20:31:22.863319Z",
     "shell.execute_reply": "2023-10-24T20:31:22.862101Z"
    },
    "papermill": {
     "duration": 0.028545,
     "end_time": "2023-10-24T20:31:22.865879",
     "exception": false,
     "start_time": "2023-10-24T20:31:22.837334",
     "status": "completed"
    },
    "tags": []
   },
   "outputs": [],
   "source": [
    "# # calculate vif for each feature to evaluate multi-collinearity\n",
    "# from statsmodels.stats.outliers_influence import variance_inflation_factor\n",
    "\n",
    "# vif = pd.DataFrame()\n",
    "# vif[\"feature\"] = features.columns\n",
    "# vif[\"vif\"] = [variance_inflation_factor(features.values,i) for i in range(len(features.columns.tolist()))]\n",
    "# vif = vif.sort_values(by = 'vif', ascending = 0)\n",
    "# vif"
   ]
  },
  {
   "cell_type": "code",
   "execution_count": 32,
   "id": "4c5e0cf7",
   "metadata": {
    "execution": {
     "iopub.execute_input": "2023-10-24T20:31:22.904028Z",
     "iopub.status.busy": "2023-10-24T20:31:22.902997Z",
     "iopub.status.idle": "2023-10-24T20:31:22.908010Z",
     "shell.execute_reply": "2023-10-24T20:31:22.906877Z"
    },
    "papermill": {
     "duration": 0.026389,
     "end_time": "2023-10-24T20:31:22.910316",
     "exception": false,
     "start_time": "2023-10-24T20:31:22.883927",
     "status": "completed"
    },
    "tags": []
   },
   "outputs": [],
   "source": [
    "# vif['feature'][0:2].tolist()"
   ]
  },
  {
   "cell_type": "code",
   "execution_count": 33,
   "id": "6c4d0ee1",
   "metadata": {
    "execution": {
     "iopub.execute_input": "2023-10-24T20:31:22.948409Z",
     "iopub.status.busy": "2023-10-24T20:31:22.947602Z",
     "iopub.status.idle": "2023-10-24T20:31:22.953399Z",
     "shell.execute_reply": "2023-10-24T20:31:22.952276Z"
    },
    "papermill": {
     "duration": 0.027235,
     "end_time": "2023-10-24T20:31:22.955800",
     "exception": false,
     "start_time": "2023-10-24T20:31:22.928565",
     "status": "completed"
    },
    "tags": []
   },
   "outputs": [],
   "source": [
    "# # customize min_max_scaler\n",
    "# def min_max_scaler(train, test, column):\n",
    "#     max_value = max(train[column].max(), test[column].max())\n",
    "#     min_value = min(train[column].min(), test[column].min())\n",
    "    \n",
    "#     train[column] = (train[column]-min_value)/(max_value-min_value)\n",
    "#     test[column] = (test[column]-min_value)/(max_value-min_value)\n",
    "    \n",
    "#     return train, test\n",
    "# train_copy = copy.deepcopy(train)\n",
    "\n",
    "# for col in features.columns.tolist():\n",
    "#     train_copy, test = min_max_scaler(train_copy, test, col)"
   ]
  },
  {
   "cell_type": "code",
   "execution_count": 34,
   "id": "cae0692e",
   "metadata": {
    "execution": {
     "iopub.execute_input": "2023-10-24T20:31:22.993009Z",
     "iopub.status.busy": "2023-10-24T20:31:22.992636Z",
     "iopub.status.idle": "2023-10-24T20:31:23.022540Z",
     "shell.execute_reply": "2023-10-24T20:31:23.021473Z"
    },
    "papermill": {
     "duration": 0.051602,
     "end_time": "2023-10-24T20:31:23.025208",
     "exception": false,
     "start_time": "2023-10-24T20:31:22.973606",
     "status": "completed"
    },
    "tags": []
   },
   "outputs": [],
   "source": [
    "# parameters = {\n",
    "# 'solver':['liblinear','sag','saga'],    \n",
    "# 'penalty':['l1','l2'],    \n",
    "#  'max_iter':[300,400,500], \n",
    "# 'C': [1.0, 2.0,3.0, 4.0, 5.0]\n",
    "# }\n",
    "\n",
    "# best parameters: C:4.0, solver:saga, penalty:l1, max_iter:400\n",
    "\n",
    "X = features\n",
    "y = target\n",
    "\n",
    "X_train, X_test, y_train, y_test = train_test_split(X, y, test_size = 0.2, random_state = 42)"
   ]
  },
  {
   "cell_type": "code",
   "execution_count": 35,
   "id": "f25544fc",
   "metadata": {
    "execution": {
     "iopub.execute_input": "2023-10-24T20:31:23.064998Z",
     "iopub.status.busy": "2023-10-24T20:31:23.064327Z",
     "iopub.status.idle": "2023-10-24T20:31:25.030548Z",
     "shell.execute_reply": "2023-10-24T20:31:25.029534Z"
    },
    "papermill": {
     "duration": 1.98965,
     "end_time": "2023-10-24T20:31:25.033329",
     "exception": false,
     "start_time": "2023-10-24T20:31:23.043679",
     "status": "completed"
    },
    "tags": []
   },
   "outputs": [],
   "source": [
    "# boxcox nomarlization\n",
    "\n",
    "for i in range(X_train.shape[1]):\n",
    "    X_train.iloc[:,i] = stats.boxcox(X_train.iloc[:,i]+1e-13)[0]\n",
    "\n",
    "for i in range(X_test.shape[1]):\n",
    "    X_test.iloc[:,i] = stats.boxcox(X_test.iloc[:,i]+1e-13)[0]\n",
    "\n",
    "# standardization\n",
    "mms = MinMaxScaler()\n",
    "mms.fit(X_train)\n",
    "X_train_scaled = mms.transform(X_train)\n",
    "X_test_scaled = mms.transform(X_test)"
   ]
  },
  {
   "cell_type": "code",
   "execution_count": 36,
   "id": "2159f866",
   "metadata": {
    "execution": {
     "iopub.execute_input": "2023-10-24T20:31:25.077078Z",
     "iopub.status.busy": "2023-10-24T20:31:25.076386Z",
     "iopub.status.idle": "2023-10-24T20:31:41.751008Z",
     "shell.execute_reply": "2023-10-24T20:31:41.746649Z"
    },
    "papermill": {
     "duration": 16.704023,
     "end_time": "2023-10-24T20:31:41.755689",
     "exception": false,
     "start_time": "2023-10-24T20:31:25.051666",
     "status": "completed"
    },
    "tags": []
   },
   "outputs": [
    {
     "name": "stdout",
     "output_type": "stream",
     "text": [
      "roc_auc_score of the baseline logistic model is: 0.7825\n"
     ]
    }
   ],
   "source": [
    "# train the mod__class_getitem__el\n",
    "lg = LogisticRegression(solver='saga', penalty='l1', C = 4.0, max_iter=400, class_weight = 'balanced')\n",
    "lg.fit(X_train_scaled, y_train)\n",
    "# clf = GridSearchCV(lg, parameters, scoring = 'roc_auc',verbose = 0)\n",
    "# clf.fit(X_train_scaled, y_train)\n",
    "y_pred = lg.predict_proba(X_test_scaled)[:,1]\n",
    "lg_roc_auc_score = roc_auc_score(y_test, y_pred)\n",
    "print(\"roc_auc_score of the baseline logistic model is: {:.4f}\". format(lg_roc_auc_score))"
   ]
  },
  {
   "cell_type": "code",
   "execution_count": 37,
   "id": "1ea7c2b7",
   "metadata": {
    "execution": {
     "iopub.execute_input": "2023-10-24T20:31:41.834897Z",
     "iopub.status.busy": "2023-10-24T20:31:41.834097Z",
     "iopub.status.idle": "2023-10-24T20:31:41.854364Z",
     "shell.execute_reply": "2023-10-24T20:31:41.853054Z"
    },
    "papermill": {
     "duration": 0.062343,
     "end_time": "2023-10-24T20:31:41.856964",
     "exception": false,
     "start_time": "2023-10-24T20:31:41.794621",
     "status": "completed"
    },
    "tags": []
   },
   "outputs": [
    {
     "data": {
      "text/html": [
       "<div>\n",
       "<style scoped>\n",
       "    .dataframe tbody tr th:only-of-type {\n",
       "        vertical-align: middle;\n",
       "    }\n",
       "\n",
       "    .dataframe tbody tr th {\n",
       "        vertical-align: top;\n",
       "    }\n",
       "\n",
       "    .dataframe thead th {\n",
       "        text-align: right;\n",
       "    }\n",
       "</style>\n",
       "<table border=\"1\" class=\"dataframe\">\n",
       "  <thead>\n",
       "    <tr style=\"text-align: right;\">\n",
       "      <th></th>\n",
       "      <th>feature_name</th>\n",
       "      <th>feature_coef</th>\n",
       "    </tr>\n",
       "  </thead>\n",
       "  <tbody>\n",
       "    <tr>\n",
       "      <th>0</th>\n",
       "      <td>loc</td>\n",
       "      <td>-28.50</td>\n",
       "    </tr>\n",
       "    <tr>\n",
       "      <th>7</th>\n",
       "      <td>d</td>\n",
       "      <td>-4.88</td>\n",
       "    </tr>\n",
       "    <tr>\n",
       "      <th>19</th>\n",
       "      <td>total_Opnd</td>\n",
       "      <td>-3.70</td>\n",
       "    </tr>\n",
       "    <tr>\n",
       "      <th>8</th>\n",
       "      <td>i</td>\n",
       "      <td>-2.35</td>\n",
       "    </tr>\n",
       "    <tr>\n",
       "      <th>14</th>\n",
       "      <td>lOBlank</td>\n",
       "      <td>-2.34</td>\n",
       "    </tr>\n",
       "    <tr>\n",
       "      <th>12</th>\n",
       "      <td>lOCode</td>\n",
       "      <td>-1.97</td>\n",
       "    </tr>\n",
       "    <tr>\n",
       "      <th>20</th>\n",
       "      <td>branchCount</td>\n",
       "      <td>-0.77</td>\n",
       "    </tr>\n",
       "    <tr>\n",
       "      <th>18</th>\n",
       "      <td>total_Op</td>\n",
       "      <td>-0.48</td>\n",
       "    </tr>\n",
       "    <tr>\n",
       "      <th>13</th>\n",
       "      <td>lOComment</td>\n",
       "      <td>-0.00</td>\n",
       "    </tr>\n",
       "    <tr>\n",
       "      <th>10</th>\n",
       "      <td>b</td>\n",
       "      <td>0.03</td>\n",
       "    </tr>\n",
       "    <tr>\n",
       "      <th>2</th>\n",
       "      <td>ev(g)</td>\n",
       "      <td>0.07</td>\n",
       "    </tr>\n",
       "    <tr>\n",
       "      <th>5</th>\n",
       "      <td>v</td>\n",
       "      <td>0.23</td>\n",
       "    </tr>\n",
       "    <tr>\n",
       "      <th>15</th>\n",
       "      <td>locCodeAndComment</td>\n",
       "      <td>0.23</td>\n",
       "    </tr>\n",
       "    <tr>\n",
       "      <th>3</th>\n",
       "      <td>iv(g)</td>\n",
       "      <td>0.30</td>\n",
       "    </tr>\n",
       "    <tr>\n",
       "      <th>16</th>\n",
       "      <td>uniq_Op</td>\n",
       "      <td>1.11</td>\n",
       "    </tr>\n",
       "    <tr>\n",
       "      <th>1</th>\n",
       "      <td>v(g)</td>\n",
       "      <td>1.14</td>\n",
       "    </tr>\n",
       "    <tr>\n",
       "      <th>17</th>\n",
       "      <td>uniq_Opnd</td>\n",
       "      <td>1.28</td>\n",
       "    </tr>\n",
       "    <tr>\n",
       "      <th>9</th>\n",
       "      <td>e</td>\n",
       "      <td>1.51</td>\n",
       "    </tr>\n",
       "    <tr>\n",
       "      <th>6</th>\n",
       "      <td>l</td>\n",
       "      <td>1.86</td>\n",
       "    </tr>\n",
       "    <tr>\n",
       "      <th>11</th>\n",
       "      <td>t</td>\n",
       "      <td>2.72</td>\n",
       "    </tr>\n",
       "    <tr>\n",
       "      <th>4</th>\n",
       "      <td>n</td>\n",
       "      <td>7.12</td>\n",
       "    </tr>\n",
       "    <tr>\n",
       "      <th>21</th>\n",
       "      <td>loc+lOBlank</td>\n",
       "      <td>40.30</td>\n",
       "    </tr>\n",
       "  </tbody>\n",
       "</table>\n",
       "</div>"
      ],
      "text/plain": [
       "         feature_name  feature_coef\n",
       "0                 loc        -28.50\n",
       "7                   d         -4.88\n",
       "19         total_Opnd         -3.70\n",
       "8                   i         -2.35\n",
       "14            lOBlank         -2.34\n",
       "12             lOCode         -1.97\n",
       "20        branchCount         -0.77\n",
       "18           total_Op         -0.48\n",
       "13          lOComment         -0.00\n",
       "10                  b          0.03\n",
       "2               ev(g)          0.07\n",
       "5                   v          0.23\n",
       "15  locCodeAndComment          0.23\n",
       "3               iv(g)          0.30\n",
       "16            uniq_Op          1.11\n",
       "1                v(g)          1.14\n",
       "17          uniq_Opnd          1.28\n",
       "9                   e          1.51\n",
       "6                   l          1.86\n",
       "11                  t          2.72\n",
       "4                   n          7.12\n",
       "21        loc+lOBlank         40.30"
      ]
     },
     "execution_count": 37,
     "metadata": {},
     "output_type": "execute_result"
    }
   ],
   "source": [
    "pd.DataFrame({'feature_name':X_train.columns,'feature_coef':lg.coef_.round(2).reshape(-1)}).sort_values(by='feature_coef', ascending = 1)"
   ]
  },
  {
   "cell_type": "code",
   "execution_count": 38,
   "id": "7d47a9a2",
   "metadata": {
    "execution": {
     "iopub.execute_input": "2023-10-24T20:31:41.896117Z",
     "iopub.status.busy": "2023-10-24T20:31:41.895344Z",
     "iopub.status.idle": "2023-10-24T20:31:41.900179Z",
     "shell.execute_reply": "2023-10-24T20:31:41.899422Z"
    },
    "papermill": {
     "duration": 0.026813,
     "end_time": "2023-10-24T20:31:41.902450",
     "exception": false,
     "start_time": "2023-10-24T20:31:41.875637",
     "status": "completed"
    },
    "tags": []
   },
   "outputs": [],
   "source": [
    "# # confusion matrix: error analysis\n",
    "# from sklearn.metrics import confusion_matrix, ConfusionMatrixDisplay\n",
    "\n",
    "# y_label_pred = lg.predict(X_test_scaled)\n",
    "# cm = confusion_matrix(y_test, y_label_pred)\n",
    "# disp = ConfusionMatrixDisplay(confusion_matrix=cm, display_labels = lg.classes_)\n",
    "# disp.plot()\n",
    "# plt.show()"
   ]
  },
  {
   "cell_type": "markdown",
   "id": "80d61d2b",
   "metadata": {
    "papermill": {
     "duration": 0.018054,
     "end_time": "2023-10-24T20:31:41.938618",
     "exception": false,
     "start_time": "2023-10-24T20:31:41.920564",
     "status": "completed"
    },
    "tags": []
   },
   "source": [
    "- lg tends to predict as false, bc of the class imbalance issue in the dataset."
   ]
  },
  {
   "cell_type": "markdown",
   "id": "49828906",
   "metadata": {
    "papermill": {
     "duration": 0.017905,
     "end_time": "2023-10-24T20:31:41.975376",
     "exception": false,
     "start_time": "2023-10-24T20:31:41.957471",
     "status": "completed"
    },
    "tags": []
   },
   "source": [
    "- v, e, t, n is almost shrinked to zero. make sense bc they either rarely correlates with target, or they are highly correlated with other variables.\n",
    "- baseline model 0.7764 with l1 penalty.\n",
    "- e1: perform feature scaling by minmaxscaler, 0.7768.\n",
    "- e2: perform feature normalizing with boxcox on all features, 0.7646\n",
    "- e3: gridsearch to find best parameters; elastcnet requires C and l1_ratio, making it hard to add it to the process.takes so long to train. didnt find the best parameters that beat 0.7768.\n",
    "- e4: e1 + e2 + e3, 0.7802\n",
    "- e5: remove features with top 2 vif score: 'branchCount', 'v(g)', 0.7802\n",
    "- e6: class imbalance\n",
    "    - upsampling: 0.7830\n",
    "    - SMOTE: 0.7911\n",
    "    - adjust class weight by class frequencies: 0.7801. model tends to predict true label.\n",
    "- e7: feature engineering + 'loc+lOSBlank'.0.7825\n",
    "- refer to that notebook and copy its feature engineering technique for every column:\n",
    "    - takeaways: \n",
    "        - almost like a brutal force method to try every possible combinations of features-pair, feature-trainsformation technique, encoding techniques and look at single variable performance. skills are being able to write iterable functions. \n",
    "        - optuna can be used to find optimal ensemble weights"
   ]
  },
  {
   "cell_type": "markdown",
   "id": "3ed1340e",
   "metadata": {
    "papermill": {
     "duration": 0.018158,
     "end_time": "2023-10-24T20:31:42.011598",
     "exception": false,
     "start_time": "2023-10-24T20:31:41.993440",
     "status": "completed"
    },
    "tags": []
   },
   "source": [
    "# Submission"
   ]
  },
  {
   "cell_type": "code",
   "execution_count": 39,
   "id": "2a15048a",
   "metadata": {
    "execution": {
     "iopub.execute_input": "2023-10-24T20:31:42.050414Z",
     "iopub.status.busy": "2023-10-24T20:31:42.049966Z",
     "iopub.status.idle": "2023-10-24T20:31:43.289711Z",
     "shell.execute_reply": "2023-10-24T20:31:43.288284Z"
    },
    "papermill": {
     "duration": 1.262872,
     "end_time": "2023-10-24T20:31:43.293125",
     "exception": false,
     "start_time": "2023-10-24T20:31:42.030253",
     "status": "completed"
    },
    "tags": []
   },
   "outputs": [],
   "source": [
    "test['loc+lOBlank'] = test['loc']+test['lOBlank']\n",
    "test.drop('id', axis = 1, inplace = True)\n",
    "\n",
    "# normalization\n",
    "for i in range(test.shape[1]):\n",
    "    test.iloc[:,i] = stats.boxcox(test.iloc[:,i]+1e-13)[0]\n",
    "\n",
    "# standardization\n",
    "mms_test = MinMaxScaler()\n",
    "mms_test.fit(test)\n",
    "test_scaled = mms_test.transform(test)"
   ]
  },
  {
   "cell_type": "code",
   "execution_count": 40,
   "id": "7bc249c4",
   "metadata": {
    "execution": {
     "iopub.execute_input": "2023-10-24T20:31:43.332791Z",
     "iopub.status.busy": "2023-10-24T20:31:43.331837Z",
     "iopub.status.idle": "2023-10-24T20:31:43.346795Z",
     "shell.execute_reply": "2023-10-24T20:31:43.345673Z"
    },
    "papermill": {
     "duration": 0.039286,
     "end_time": "2023-10-24T20:31:43.350769",
     "exception": false,
     "start_time": "2023-10-24T20:31:43.311483",
     "status": "completed"
    },
    "tags": []
   },
   "outputs": [
    {
     "data": {
      "text/plain": [
       "array([0.4933975 , 0.42595291, 0.89815415, ..., 0.46026498, 0.27924572,\n",
       "       0.90846635])"
      ]
     },
     "execution_count": 40,
     "metadata": {},
     "output_type": "execute_result"
    }
   ],
   "source": [
    "test_pred = lg.predict_proba(test_scaled)[:,1]\n",
    "test_pred"
   ]
  },
  {
   "cell_type": "code",
   "execution_count": 41,
   "id": "2dc83644",
   "metadata": {
    "execution": {
     "iopub.execute_input": "2023-10-24T20:31:43.432799Z",
     "iopub.status.busy": "2023-10-24T20:31:43.432111Z",
     "iopub.status.idle": "2023-10-24T20:31:43.453495Z",
     "shell.execute_reply": "2023-10-24T20:31:43.452350Z"
    },
    "papermill": {
     "duration": 0.067204,
     "end_time": "2023-10-24T20:31:43.457447",
     "exception": false,
     "start_time": "2023-10-24T20:31:43.390243",
     "status": "completed"
    },
    "tags": []
   },
   "outputs": [
    {
     "data": {
      "text/html": [
       "<div>\n",
       "<style scoped>\n",
       "    .dataframe tbody tr th:only-of-type {\n",
       "        vertical-align: middle;\n",
       "    }\n",
       "\n",
       "    .dataframe tbody tr th {\n",
       "        vertical-align: top;\n",
       "    }\n",
       "\n",
       "    .dataframe thead th {\n",
       "        text-align: right;\n",
       "    }\n",
       "</style>\n",
       "<table border=\"1\" class=\"dataframe\">\n",
       "  <thead>\n",
       "    <tr style=\"text-align: right;\">\n",
       "      <th></th>\n",
       "      <th>id</th>\n",
       "      <th>defects</th>\n",
       "    </tr>\n",
       "  </thead>\n",
       "  <tbody>\n",
       "    <tr>\n",
       "      <th>0</th>\n",
       "      <td>101763</td>\n",
       "      <td>0.493398</td>\n",
       "    </tr>\n",
       "    <tr>\n",
       "      <th>1</th>\n",
       "      <td>101764</td>\n",
       "      <td>0.425953</td>\n",
       "    </tr>\n",
       "    <tr>\n",
       "      <th>2</th>\n",
       "      <td>101765</td>\n",
       "      <td>0.898154</td>\n",
       "    </tr>\n",
       "    <tr>\n",
       "      <th>3</th>\n",
       "      <td>101766</td>\n",
       "      <td>0.761986</td>\n",
       "    </tr>\n",
       "    <tr>\n",
       "      <th>4</th>\n",
       "      <td>101767</td>\n",
       "      <td>0.436124</td>\n",
       "    </tr>\n",
       "    <tr>\n",
       "      <th>...</th>\n",
       "      <td>...</td>\n",
       "      <td>...</td>\n",
       "    </tr>\n",
       "    <tr>\n",
       "      <th>67837</th>\n",
       "      <td>169600</td>\n",
       "      <td>0.560001</td>\n",
       "    </tr>\n",
       "    <tr>\n",
       "      <th>67838</th>\n",
       "      <td>169601</td>\n",
       "      <td>0.396685</td>\n",
       "    </tr>\n",
       "    <tr>\n",
       "      <th>67839</th>\n",
       "      <td>169602</td>\n",
       "      <td>0.460265</td>\n",
       "    </tr>\n",
       "    <tr>\n",
       "      <th>67840</th>\n",
       "      <td>169603</td>\n",
       "      <td>0.279246</td>\n",
       "    </tr>\n",
       "    <tr>\n",
       "      <th>67841</th>\n",
       "      <td>169604</td>\n",
       "      <td>0.908466</td>\n",
       "    </tr>\n",
       "  </tbody>\n",
       "</table>\n",
       "<p>67842 rows × 2 columns</p>\n",
       "</div>"
      ],
      "text/plain": [
       "           id   defects\n",
       "0      101763  0.493398\n",
       "1      101764  0.425953\n",
       "2      101765  0.898154\n",
       "3      101766  0.761986\n",
       "4      101767  0.436124\n",
       "...       ...       ...\n",
       "67837  169600  0.560001\n",
       "67838  169601  0.396685\n",
       "67839  169602  0.460265\n",
       "67840  169603  0.279246\n",
       "67841  169604  0.908466\n",
       "\n",
       "[67842 rows x 2 columns]"
      ]
     },
     "execution_count": 41,
     "metadata": {},
     "output_type": "execute_result"
    }
   ],
   "source": [
    "submission['defects'] = test_pred\n",
    "submission"
   ]
  },
  {
   "cell_type": "code",
   "execution_count": 42,
   "id": "6792d4bd",
   "metadata": {
    "execution": {
     "iopub.execute_input": "2023-10-24T20:31:43.498402Z",
     "iopub.status.busy": "2023-10-24T20:31:43.497595Z",
     "iopub.status.idle": "2023-10-24T20:31:43.794257Z",
     "shell.execute_reply": "2023-10-24T20:31:43.792912Z"
    },
    "papermill": {
     "duration": 0.321325,
     "end_time": "2023-10-24T20:31:43.798017",
     "exception": false,
     "start_time": "2023-10-24T20:31:43.476692",
     "status": "completed"
    },
    "tags": []
   },
   "outputs": [],
   "source": [
    "submission.to_csv(\"submission.csv\", index=False)"
   ]
  },
  {
   "cell_type": "code",
   "execution_count": null,
   "id": "96dbbdf0",
   "metadata": {
    "papermill": {
     "duration": 0.018902,
     "end_time": "2023-10-24T20:31:43.849363",
     "exception": false,
     "start_time": "2023-10-24T20:31:43.830461",
     "status": "completed"
    },
    "tags": []
   },
   "outputs": [],
   "source": []
  }
 ],
 "metadata": {
  "kernelspec": {
   "display_name": "Python 3",
   "language": "python",
   "name": "python3"
  },
  "language_info": {
   "codemirror_mode": {
    "name": "ipython",
    "version": 3
   },
   "file_extension": ".py",
   "mimetype": "text/x-python",
   "name": "python",
   "nbconvert_exporter": "python",
   "pygments_lexer": "ipython3",
   "version": "3.10.12"
  },
  "papermill": {
   "default_parameters": {},
   "duration": 30.836081,
   "end_time": "2023-10-24T20:31:44.489868",
   "environment_variables": {},
   "exception": null,
   "input_path": "__notebook__.ipynb",
   "output_path": "__notebook__.ipynb",
   "parameters": {},
   "start_time": "2023-10-24T20:31:13.653787",
   "version": "2.4.0"
  }
 },
 "nbformat": 4,
 "nbformat_minor": 5
}
