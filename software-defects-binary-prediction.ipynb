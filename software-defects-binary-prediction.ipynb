{
 "cells": [
  {
   "cell_type": "code",
   "execution_count": 1,
   "id": "8d13bab3",
   "metadata": {
    "_cell_guid": "b1076dfc-b9ad-4769-8c92-a6c4dae69d19",
    "_uuid": "8f2839f25d086af736a60e9eeb907d3b93b6e0e5",
    "execution": {
     "iopub.execute_input": "2023-10-16T23:16:21.491088Z",
     "iopub.status.busy": "2023-10-16T23:16:21.490394Z",
     "iopub.status.idle": "2023-10-16T23:16:24.081328Z",
     "shell.execute_reply": "2023-10-16T23:16:24.079960Z"
    },
    "papermill": {
     "duration": 2.604492,
     "end_time": "2023-10-16T23:16:24.084876",
     "exception": false,
     "start_time": "2023-10-16T23:16:21.480384",
     "status": "completed"
    },
    "tags": []
   },
   "outputs": [],
   "source": [
    "import os\n",
    "import numpy as np \n",
    "import pandas as pd\n",
    "import matplotlib.pyplot as plt\n",
    "import seaborn as sns\n",
    "from scipy.stats import norm, skew, kurtosis\n",
    "\n",
    "from sklearn.linear_model import LogisticRegression\n",
    "from sklearn.model_selection import train_test_split\n",
    "from sklearn.metrics import roc_auc_score\n",
    "from sklearn.preprocessing import MinMaxScaler, Normalizer\n",
    "from sklearn.model_selection import GridSearchCV\n",
    "from scipy import stats\n",
    "\n",
    "import copy as copy"
   ]
  },
  {
   "cell_type": "code",
   "execution_count": 2,
   "id": "54b7d9d0",
   "metadata": {
    "execution": {
     "iopub.execute_input": "2023-10-16T23:16:24.101968Z",
     "iopub.status.busy": "2023-10-16T23:16:24.101352Z",
     "iopub.status.idle": "2023-10-16T23:16:24.975488Z",
     "shell.execute_reply": "2023-10-16T23:16:24.974124Z"
    },
    "papermill": {
     "duration": 0.885801,
     "end_time": "2023-10-16T23:16:24.978422",
     "exception": false,
     "start_time": "2023-10-16T23:16:24.092621",
     "status": "completed"
    },
    "tags": []
   },
   "outputs": [],
   "source": [
    "# read the data \n",
    "maindir = '/kaggle/input'\n",
    "filepath_lst = []\n",
    "\n",
    "for dirname, _, filenames in os.walk(maindir):\n",
    "    for filename in filenames:\n",
    "        filepath_lst.append(os.path.join(dirname, filename))\n",
    "\n",
    "submission = pd.read_csv(filepath_lst[0])\n",
    "train = pd.read_csv(filepath_lst[1])\n",
    "test = pd.read_csv(filepath_lst[2])"
   ]
  },
  {
   "cell_type": "markdown",
   "id": "9876d973",
   "metadata": {
    "papermill": {
     "duration": 0.007404,
     "end_time": "2023-10-16T23:16:24.993499",
     "exception": false,
     "start_time": "2023-10-16T23:16:24.986095",
     "status": "completed"
    },
    "tags": []
   },
   "source": [
    "# EDA"
   ]
  },
  {
   "cell_type": "code",
   "execution_count": 3,
   "id": "31bf3970",
   "metadata": {
    "execution": {
     "iopub.execute_input": "2023-10-16T23:16:25.021165Z",
     "iopub.status.busy": "2023-10-16T23:16:25.019736Z",
     "iopub.status.idle": "2023-10-16T23:16:25.028302Z",
     "shell.execute_reply": "2023-10-16T23:16:25.027469Z"
    },
    "papermill": {
     "duration": 0.02777,
     "end_time": "2023-10-16T23:16:25.030664",
     "exception": false,
     "start_time": "2023-10-16T23:16:25.002894",
     "status": "completed"
    },
    "tags": []
   },
   "outputs": [
    {
     "data": {
      "text/plain": [
       "((67842, 2), (101763, 23), (67842, 22))"
      ]
     },
     "execution_count": 3,
     "metadata": {},
     "output_type": "execute_result"
    }
   ],
   "source": [
    "submission.shape, train.shape, test.shape"
   ]
  },
  {
   "cell_type": "code",
   "execution_count": 4,
   "id": "6177c215",
   "metadata": {
    "execution": {
     "iopub.execute_input": "2023-10-16T23:16:25.047529Z",
     "iopub.status.busy": "2023-10-16T23:16:25.047091Z",
     "iopub.status.idle": "2023-10-16T23:16:25.054526Z",
     "shell.execute_reply": "2023-10-16T23:16:25.053169Z"
    },
    "papermill": {
     "duration": 0.01836,
     "end_time": "2023-10-16T23:16:25.056787",
     "exception": false,
     "start_time": "2023-10-16T23:16:25.038427",
     "status": "completed"
    },
    "tags": []
   },
   "outputs": [
    {
     "data": {
      "text/plain": [
       "Index(['id', 'loc', 'v(g)', 'ev(g)', 'iv(g)', 'n', 'v', 'l', 'd', 'i', 'e',\n",
       "       'b', 't', 'lOCode', 'lOComment', 'lOBlank', 'locCodeAndComment',\n",
       "       'uniq_Op', 'uniq_Opnd', 'total_Op', 'total_Opnd', 'branchCount',\n",
       "       'defects'],\n",
       "      dtype='object')"
      ]
     },
     "execution_count": 4,
     "metadata": {},
     "output_type": "execute_result"
    }
   ],
   "source": [
    "train.columns"
   ]
  },
  {
   "cell_type": "code",
   "execution_count": 5,
   "id": "6e0c5db5",
   "metadata": {
    "execution": {
     "iopub.execute_input": "2023-10-16T23:16:25.073087Z",
     "iopub.status.busy": "2023-10-16T23:16:25.072739Z",
     "iopub.status.idle": "2023-10-16T23:16:25.088421Z",
     "shell.execute_reply": "2023-10-16T23:16:25.087173Z"
    },
    "papermill": {
     "duration": 0.026801,
     "end_time": "2023-10-16T23:16:25.090926",
     "exception": false,
     "start_time": "2023-10-16T23:16:25.064125",
     "status": "completed"
    },
    "tags": []
   },
   "outputs": [
    {
     "data": {
      "text/plain": [
       "id                     int64\n",
       "loc                  float64\n",
       "v(g)                 float64\n",
       "ev(g)                float64\n",
       "iv(g)                float64\n",
       "n                    float64\n",
       "v                    float64\n",
       "l                    float64\n",
       "d                    float64\n",
       "i                    float64\n",
       "e                    float64\n",
       "b                    float64\n",
       "t                    float64\n",
       "lOCode                 int64\n",
       "lOComment              int64\n",
       "lOBlank                int64\n",
       "locCodeAndComment      int64\n",
       "uniq_Op              float64\n",
       "uniq_Opnd            float64\n",
       "total_Op             float64\n",
       "total_Opnd           float64\n",
       "branchCount          float64\n",
       "defects                 bool\n",
       "dtype: object"
      ]
     },
     "execution_count": 5,
     "metadata": {},
     "output_type": "execute_result"
    }
   ],
   "source": [
    "train.dtypes"
   ]
  },
  {
   "cell_type": "code",
   "execution_count": 6,
   "id": "1bd60333",
   "metadata": {
    "execution": {
     "iopub.execute_input": "2023-10-16T23:16:25.107965Z",
     "iopub.status.busy": "2023-10-16T23:16:25.107557Z",
     "iopub.status.idle": "2023-10-16T23:16:25.143887Z",
     "shell.execute_reply": "2023-10-16T23:16:25.142921Z"
    },
    "papermill": {
     "duration": 0.047775,
     "end_time": "2023-10-16T23:16:25.146367",
     "exception": false,
     "start_time": "2023-10-16T23:16:25.098592",
     "status": "completed"
    },
    "tags": []
   },
   "outputs": [
    {
     "name": "stdout",
     "output_type": "stream",
     "text": [
      "<class 'pandas.core.frame.DataFrame'>\n",
      "RangeIndex: 101763 entries, 0 to 101762\n",
      "Data columns (total 23 columns):\n",
      " #   Column             Non-Null Count   Dtype  \n",
      "---  ------             --------------   -----  \n",
      " 0   id                 101763 non-null  int64  \n",
      " 1   loc                101763 non-null  float64\n",
      " 2   v(g)               101763 non-null  float64\n",
      " 3   ev(g)              101763 non-null  float64\n",
      " 4   iv(g)              101763 non-null  float64\n",
      " 5   n                  101763 non-null  float64\n",
      " 6   v                  101763 non-null  float64\n",
      " 7   l                  101763 non-null  float64\n",
      " 8   d                  101763 non-null  float64\n",
      " 9   i                  101763 non-null  float64\n",
      " 10  e                  101763 non-null  float64\n",
      " 11  b                  101763 non-null  float64\n",
      " 12  t                  101763 non-null  float64\n",
      " 13  lOCode             101763 non-null  int64  \n",
      " 14  lOComment          101763 non-null  int64  \n",
      " 15  lOBlank            101763 non-null  int64  \n",
      " 16  locCodeAndComment  101763 non-null  int64  \n",
      " 17  uniq_Op            101763 non-null  float64\n",
      " 18  uniq_Opnd          101763 non-null  float64\n",
      " 19  total_Op           101763 non-null  float64\n",
      " 20  total_Opnd         101763 non-null  float64\n",
      " 21  branchCount        101763 non-null  float64\n",
      " 22  defects            101763 non-null  bool   \n",
      "dtypes: bool(1), float64(17), int64(5)\n",
      "memory usage: 17.2 MB\n"
     ]
    }
   ],
   "source": [
    "train.info()"
   ]
  },
  {
   "cell_type": "code",
   "execution_count": 7,
   "id": "d46342a4",
   "metadata": {
    "execution": {
     "iopub.execute_input": "2023-10-16T23:16:25.164187Z",
     "iopub.status.busy": "2023-10-16T23:16:25.163777Z",
     "iopub.status.idle": "2023-10-16T23:16:25.181658Z",
     "shell.execute_reply": "2023-10-16T23:16:25.180176Z"
    },
    "papermill": {
     "duration": 0.029303,
     "end_time": "2023-10-16T23:16:25.183783",
     "exception": false,
     "start_time": "2023-10-16T23:16:25.154480",
     "status": "completed"
    },
    "tags": []
   },
   "outputs": [],
   "source": [
    "features = train.drop(['defects','id'], axis = 1)\n",
    "target = train['defects']"
   ]
  },
  {
   "cell_type": "code",
   "execution_count": 8,
   "id": "bc5bb726",
   "metadata": {
    "execution": {
     "iopub.execute_input": "2023-10-16T23:16:25.201362Z",
     "iopub.status.busy": "2023-10-16T23:16:25.200475Z",
     "iopub.status.idle": "2023-10-16T23:16:25.217492Z",
     "shell.execute_reply": "2023-10-16T23:16:25.216040Z"
    },
    "papermill": {
     "duration": 0.028216,
     "end_time": "2023-10-16T23:16:25.219769",
     "exception": false,
     "start_time": "2023-10-16T23:16:25.191553",
     "status": "completed"
    },
    "tags": []
   },
   "outputs": [
    {
     "name": "stdout",
     "output_type": "stream",
     "text": [
      "['loc', 'v(g)', 'ev(g)', 'iv(g)', 'n', 'v', 'l', 'd', 'i', 'e', 'b', 't', 'uniq_Op', 'uniq_Opnd', 'total_Op', 'total_Opnd', 'branchCount']\n",
      "['lOCode', 'lOComment', 'lOBlank', 'locCodeAndComment']\n"
     ]
    }
   ],
   "source": [
    "float_features = features.select_dtypes(include = 'float').columns.tolist()\n",
    "int_features = features.select_dtypes(include = 'int').columns.tolist()\n",
    "print(float_features)\n",
    "print(int_features)"
   ]
  },
  {
   "cell_type": "code",
   "execution_count": 9,
   "id": "0e292482",
   "metadata": {
    "execution": {
     "iopub.execute_input": "2023-10-16T23:16:25.237566Z",
     "iopub.status.busy": "2023-10-16T23:16:25.237148Z",
     "iopub.status.idle": "2023-10-16T23:16:25.388688Z",
     "shell.execute_reply": "2023-10-16T23:16:25.387608Z"
    },
    "papermill": {
     "duration": 0.163099,
     "end_time": "2023-10-16T23:16:25.390853",
     "exception": false,
     "start_time": "2023-10-16T23:16:25.227754",
     "status": "completed"
    },
    "tags": []
   },
   "outputs": [
    {
     "data": {
      "text/html": [
       "<div>\n",
       "<style scoped>\n",
       "    .dataframe tbody tr th:only-of-type {\n",
       "        vertical-align: middle;\n",
       "    }\n",
       "\n",
       "    .dataframe tbody tr th {\n",
       "        vertical-align: top;\n",
       "    }\n",
       "\n",
       "    .dataframe thead th {\n",
       "        text-align: right;\n",
       "    }\n",
       "</style>\n",
       "<table border=\"1\" class=\"dataframe\">\n",
       "  <thead>\n",
       "    <tr style=\"text-align: right;\">\n",
       "      <th></th>\n",
       "      <th>count</th>\n",
       "      <th>mean</th>\n",
       "      <th>std</th>\n",
       "      <th>min</th>\n",
       "      <th>25%</th>\n",
       "      <th>50%</th>\n",
       "      <th>75%</th>\n",
       "      <th>max</th>\n",
       "    </tr>\n",
       "  </thead>\n",
       "  <tbody>\n",
       "    <tr>\n",
       "      <th>loc</th>\n",
       "      <td>101763.0</td>\n",
       "      <td>37.0</td>\n",
       "      <td>55.0</td>\n",
       "      <td>1.0</td>\n",
       "      <td>13.0</td>\n",
       "      <td>22.0</td>\n",
       "      <td>42.0</td>\n",
       "      <td>3442.0</td>\n",
       "    </tr>\n",
       "    <tr>\n",
       "      <th>v(g)</th>\n",
       "      <td>101763.0</td>\n",
       "      <td>5.0</td>\n",
       "      <td>8.0</td>\n",
       "      <td>1.0</td>\n",
       "      <td>2.0</td>\n",
       "      <td>3.0</td>\n",
       "      <td>6.0</td>\n",
       "      <td>404.0</td>\n",
       "    </tr>\n",
       "    <tr>\n",
       "      <th>ev(g)</th>\n",
       "      <td>101763.0</td>\n",
       "      <td>3.0</td>\n",
       "      <td>5.0</td>\n",
       "      <td>1.0</td>\n",
       "      <td>1.0</td>\n",
       "      <td>1.0</td>\n",
       "      <td>3.0</td>\n",
       "      <td>165.0</td>\n",
       "    </tr>\n",
       "    <tr>\n",
       "      <th>iv(g)</th>\n",
       "      <td>101763.0</td>\n",
       "      <td>3.0</td>\n",
       "      <td>6.0</td>\n",
       "      <td>1.0</td>\n",
       "      <td>1.0</td>\n",
       "      <td>2.0</td>\n",
       "      <td>4.0</td>\n",
       "      <td>402.0</td>\n",
       "    </tr>\n",
       "    <tr>\n",
       "      <th>n</th>\n",
       "      <td>101763.0</td>\n",
       "      <td>97.0</td>\n",
       "      <td>171.0</td>\n",
       "      <td>0.0</td>\n",
       "      <td>25.0</td>\n",
       "      <td>51.0</td>\n",
       "      <td>111.0</td>\n",
       "      <td>8441.0</td>\n",
       "    </tr>\n",
       "    <tr>\n",
       "      <th>v</th>\n",
       "      <td>101763.0</td>\n",
       "      <td>538.0</td>\n",
       "      <td>1271.0</td>\n",
       "      <td>0.0</td>\n",
       "      <td>98.0</td>\n",
       "      <td>233.0</td>\n",
       "      <td>560.0</td>\n",
       "      <td>80843.0</td>\n",
       "    </tr>\n",
       "    <tr>\n",
       "      <th>l</th>\n",
       "      <td>101763.0</td>\n",
       "      <td>0.0</td>\n",
       "      <td>0.0</td>\n",
       "      <td>0.0</td>\n",
       "      <td>0.0</td>\n",
       "      <td>0.0</td>\n",
       "      <td>0.0</td>\n",
       "      <td>1.0</td>\n",
       "    </tr>\n",
       "    <tr>\n",
       "      <th>d</th>\n",
       "      <td>101763.0</td>\n",
       "      <td>14.0</td>\n",
       "      <td>14.0</td>\n",
       "      <td>0.0</td>\n",
       "      <td>6.0</td>\n",
       "      <td>10.0</td>\n",
       "      <td>18.0</td>\n",
       "      <td>418.0</td>\n",
       "    </tr>\n",
       "    <tr>\n",
       "      <th>i</th>\n",
       "      <td>101763.0</td>\n",
       "      <td>28.0</td>\n",
       "      <td>23.0</td>\n",
       "      <td>0.0</td>\n",
       "      <td>16.0</td>\n",
       "      <td>23.0</td>\n",
       "      <td>34.0</td>\n",
       "      <td>570.0</td>\n",
       "    </tr>\n",
       "    <tr>\n",
       "      <th>e</th>\n",
       "      <td>101763.0</td>\n",
       "      <td>20854.0</td>\n",
       "      <td>190571.0</td>\n",
       "      <td>0.0</td>\n",
       "      <td>565.0</td>\n",
       "      <td>2256.0</td>\n",
       "      <td>10193.0</td>\n",
       "      <td>16846621.0</td>\n",
       "    </tr>\n",
       "    <tr>\n",
       "      <th>b</th>\n",
       "      <td>101763.0</td>\n",
       "      <td>0.0</td>\n",
       "      <td>0.0</td>\n",
       "      <td>0.0</td>\n",
       "      <td>0.0</td>\n",
       "      <td>0.0</td>\n",
       "      <td>0.0</td>\n",
       "      <td>27.0</td>\n",
       "    </tr>\n",
       "    <tr>\n",
       "      <th>t</th>\n",
       "      <td>101763.0</td>\n",
       "      <td>1141.0</td>\n",
       "      <td>9863.0</td>\n",
       "      <td>0.0</td>\n",
       "      <td>31.0</td>\n",
       "      <td>125.0</td>\n",
       "      <td>566.0</td>\n",
       "      <td>935923.0</td>\n",
       "    </tr>\n",
       "    <tr>\n",
       "      <th>lOCode</th>\n",
       "      <td>101763.0</td>\n",
       "      <td>23.0</td>\n",
       "      <td>39.0</td>\n",
       "      <td>0.0</td>\n",
       "      <td>7.0</td>\n",
       "      <td>14.0</td>\n",
       "      <td>26.0</td>\n",
       "      <td>2824.0</td>\n",
       "    </tr>\n",
       "    <tr>\n",
       "      <th>lOComment</th>\n",
       "      <td>101763.0</td>\n",
       "      <td>2.0</td>\n",
       "      <td>6.0</td>\n",
       "      <td>0.0</td>\n",
       "      <td>0.0</td>\n",
       "      <td>0.0</td>\n",
       "      <td>1.0</td>\n",
       "      <td>344.0</td>\n",
       "    </tr>\n",
       "    <tr>\n",
       "      <th>lOBlank</th>\n",
       "      <td>101763.0</td>\n",
       "      <td>4.0</td>\n",
       "      <td>6.0</td>\n",
       "      <td>0.0</td>\n",
       "      <td>1.0</td>\n",
       "      <td>2.0</td>\n",
       "      <td>5.0</td>\n",
       "      <td>219.0</td>\n",
       "    </tr>\n",
       "    <tr>\n",
       "      <th>locCodeAndComment</th>\n",
       "      <td>101763.0</td>\n",
       "      <td>0.0</td>\n",
       "      <td>1.0</td>\n",
       "      <td>0.0</td>\n",
       "      <td>0.0</td>\n",
       "      <td>0.0</td>\n",
       "      <td>0.0</td>\n",
       "      <td>43.0</td>\n",
       "    </tr>\n",
       "    <tr>\n",
       "      <th>uniq_Op</th>\n",
       "      <td>101763.0</td>\n",
       "      <td>12.0</td>\n",
       "      <td>7.0</td>\n",
       "      <td>0.0</td>\n",
       "      <td>8.0</td>\n",
       "      <td>11.0</td>\n",
       "      <td>16.0</td>\n",
       "      <td>410.0</td>\n",
       "    </tr>\n",
       "    <tr>\n",
       "      <th>uniq_Opnd</th>\n",
       "      <td>101763.0</td>\n",
       "      <td>16.0</td>\n",
       "      <td>18.0</td>\n",
       "      <td>0.0</td>\n",
       "      <td>7.0</td>\n",
       "      <td>12.0</td>\n",
       "      <td>20.0</td>\n",
       "      <td>1026.0</td>\n",
       "    </tr>\n",
       "    <tr>\n",
       "      <th>total_Op</th>\n",
       "      <td>101763.0</td>\n",
       "      <td>58.0</td>\n",
       "      <td>105.0</td>\n",
       "      <td>0.0</td>\n",
       "      <td>15.0</td>\n",
       "      <td>30.0</td>\n",
       "      <td>66.0</td>\n",
       "      <td>5420.0</td>\n",
       "    </tr>\n",
       "    <tr>\n",
       "      <th>total_Opnd</th>\n",
       "      <td>101763.0</td>\n",
       "      <td>39.0</td>\n",
       "      <td>72.0</td>\n",
       "      <td>0.0</td>\n",
       "      <td>10.0</td>\n",
       "      <td>20.0</td>\n",
       "      <td>45.0</td>\n",
       "      <td>3021.0</td>\n",
       "    </tr>\n",
       "    <tr>\n",
       "      <th>branchCount</th>\n",
       "      <td>101763.0</td>\n",
       "      <td>10.0</td>\n",
       "      <td>14.0</td>\n",
       "      <td>1.0</td>\n",
       "      <td>3.0</td>\n",
       "      <td>5.0</td>\n",
       "      <td>11.0</td>\n",
       "      <td>503.0</td>\n",
       "    </tr>\n",
       "  </tbody>\n",
       "</table>\n",
       "</div>"
      ],
      "text/plain": [
       "                      count     mean       std  min    25%     50%      75%  \\\n",
       "loc                101763.0     37.0      55.0  1.0   13.0    22.0     42.0   \n",
       "v(g)               101763.0      5.0       8.0  1.0    2.0     3.0      6.0   \n",
       "ev(g)              101763.0      3.0       5.0  1.0    1.0     1.0      3.0   \n",
       "iv(g)              101763.0      3.0       6.0  1.0    1.0     2.0      4.0   \n",
       "n                  101763.0     97.0     171.0  0.0   25.0    51.0    111.0   \n",
       "v                  101763.0    538.0    1271.0  0.0   98.0   233.0    560.0   \n",
       "l                  101763.0      0.0       0.0  0.0    0.0     0.0      0.0   \n",
       "d                  101763.0     14.0      14.0  0.0    6.0    10.0     18.0   \n",
       "i                  101763.0     28.0      23.0  0.0   16.0    23.0     34.0   \n",
       "e                  101763.0  20854.0  190571.0  0.0  565.0  2256.0  10193.0   \n",
       "b                  101763.0      0.0       0.0  0.0    0.0     0.0      0.0   \n",
       "t                  101763.0   1141.0    9863.0  0.0   31.0   125.0    566.0   \n",
       "lOCode             101763.0     23.0      39.0  0.0    7.0    14.0     26.0   \n",
       "lOComment          101763.0      2.0       6.0  0.0    0.0     0.0      1.0   \n",
       "lOBlank            101763.0      4.0       6.0  0.0    1.0     2.0      5.0   \n",
       "locCodeAndComment  101763.0      0.0       1.0  0.0    0.0     0.0      0.0   \n",
       "uniq_Op            101763.0     12.0       7.0  0.0    8.0    11.0     16.0   \n",
       "uniq_Opnd          101763.0     16.0      18.0  0.0    7.0    12.0     20.0   \n",
       "total_Op           101763.0     58.0     105.0  0.0   15.0    30.0     66.0   \n",
       "total_Opnd         101763.0     39.0      72.0  0.0   10.0    20.0     45.0   \n",
       "branchCount        101763.0     10.0      14.0  1.0    3.0     5.0     11.0   \n",
       "\n",
       "                          max  \n",
       "loc                    3442.0  \n",
       "v(g)                    404.0  \n",
       "ev(g)                   165.0  \n",
       "iv(g)                   402.0  \n",
       "n                      8441.0  \n",
       "v                     80843.0  \n",
       "l                         1.0  \n",
       "d                       418.0  \n",
       "i                       570.0  \n",
       "e                  16846621.0  \n",
       "b                        27.0  \n",
       "t                    935923.0  \n",
       "lOCode                 2824.0  \n",
       "lOComment               344.0  \n",
       "lOBlank                 219.0  \n",
       "locCodeAndComment        43.0  \n",
       "uniq_Op                 410.0  \n",
       "uniq_Opnd              1026.0  \n",
       "total_Op               5420.0  \n",
       "total_Opnd             3021.0  \n",
       "branchCount             503.0  "
      ]
     },
     "execution_count": 9,
     "metadata": {},
     "output_type": "execute_result"
    }
   ],
   "source": [
    "features.describe().round().T"
   ]
  },
  {
   "cell_type": "code",
   "execution_count": 10,
   "id": "9d0cee0e",
   "metadata": {
    "execution": {
     "iopub.execute_input": "2023-10-16T23:16:25.408531Z",
     "iopub.status.busy": "2023-10-16T23:16:25.408136Z",
     "iopub.status.idle": "2023-10-16T23:16:25.415516Z",
     "shell.execute_reply": "2023-10-16T23:16:25.414132Z"
    },
    "papermill": {
     "duration": 0.018788,
     "end_time": "2023-10-16T23:16:25.417779",
     "exception": false,
     "start_time": "2023-10-16T23:16:25.398991",
     "status": "completed"
    },
    "tags": []
   },
   "outputs": [
    {
     "data": {
      "text/plain": [
       "'loc'"
      ]
     },
     "execution_count": 10,
     "metadata": {},
     "output_type": "execute_result"
    }
   ],
   "source": [
    "features.columns.tolist()[0]"
   ]
  },
  {
   "cell_type": "markdown",
   "id": "e7c41f48",
   "metadata": {
    "papermill": {
     "duration": 0.007738,
     "end_time": "2023-10-16T23:16:25.433861",
     "exception": false,
     "start_time": "2023-10-16T23:16:25.426123",
     "status": "completed"
    },
    "tags": []
   },
   "source": [
    "- outliers, feature scaling"
   ]
  },
  {
   "cell_type": "code",
   "execution_count": 11,
   "id": "992beb13",
   "metadata": {
    "execution": {
     "iopub.execute_input": "2023-10-16T23:16:25.452335Z",
     "iopub.status.busy": "2023-10-16T23:16:25.451238Z",
     "iopub.status.idle": "2023-10-16T23:16:25.456347Z",
     "shell.execute_reply": "2023-10-16T23:16:25.455085Z"
    },
    "papermill": {
     "duration": 0.016391,
     "end_time": "2023-10-16T23:16:25.458350",
     "exception": false,
     "start_time": "2023-10-16T23:16:25.441959",
     "status": "completed"
    },
    "tags": []
   },
   "outputs": [],
   "source": [
    "# # check feature distribution\n",
    "# fig, axes = plt.subplots(3,6, figsize = (15,6), constrained_layout = True)\n",
    "# axes = axes.flatten()\n",
    "\n",
    "# for i,j in zip(float_features,axes):\n",
    "    \n",
    "#     sns.kdeplot(train, x=i, ax = j, hue = \"defects\")\n",
    "#     (mu, sigma) = norm.fit(train[i])\n",
    "#     xmin, xmax = j.get_xlim()[0], j.get_xlim()[1]\n",
    "#     x = np.linspace(xmin, xmax, 100)\n",
    "#     p = norm.pdf(x, mu, sigma)\n",
    "#     j.plot(x, p, 'k')"
   ]
  },
  {
   "cell_type": "markdown",
   "id": "bdb2eec7",
   "metadata": {
    "papermill": {
     "duration": 0.007639,
     "end_time": "2023-10-16T23:16:25.474310",
     "exception": false,
     "start_time": "2023-10-16T23:16:25.466671",
     "status": "completed"
    },
    "tags": []
   },
   "source": [
    "- what the distribution plots tell us:\n",
    "\n",
    "1) number of false cases > number of true classes -> class imbalance -> check distribution after solving the class imbalance issue.\n",
    "\n",
    "2) data distribution is close to normal distribution, but with higher peaks. \n",
    "\n",
    "3) feature values are at similar scales. feature scaling might not be necessary or helpful.\n",
    "\n",
    "4) outliers. "
   ]
  },
  {
   "cell_type": "code",
   "execution_count": 12,
   "id": "b07bd5a5",
   "metadata": {
    "execution": {
     "iopub.execute_input": "2023-10-16T23:16:25.492872Z",
     "iopub.status.busy": "2023-10-16T23:16:25.492111Z",
     "iopub.status.idle": "2023-10-16T23:16:25.495998Z",
     "shell.execute_reply": "2023-10-16T23:16:25.495273Z"
    },
    "papermill": {
     "duration": 0.015511,
     "end_time": "2023-10-16T23:16:25.497916",
     "exception": false,
     "start_time": "2023-10-16T23:16:25.482405",
     "status": "completed"
    },
    "tags": []
   },
   "outputs": [],
   "source": [
    "# # check for class imbalance\n",
    "# train.groupby('defects')['id'].count()/train.shape[0]*100"
   ]
  },
  {
   "cell_type": "code",
   "execution_count": 13,
   "id": "9d751e3a",
   "metadata": {
    "execution": {
     "iopub.execute_input": "2023-10-16T23:16:25.517301Z",
     "iopub.status.busy": "2023-10-16T23:16:25.515992Z",
     "iopub.status.idle": "2023-10-16T23:16:25.565878Z",
     "shell.execute_reply": "2023-10-16T23:16:25.564280Z"
    },
    "papermill": {
     "duration": 0.061854,
     "end_time": "2023-10-16T23:16:25.568337",
     "exception": false,
     "start_time": "2023-10-16T23:16:25.506483",
     "status": "completed"
    },
    "tags": []
   },
   "outputs": [
    {
     "data": {
      "text/html": [
       "<div>\n",
       "<style scoped>\n",
       "    .dataframe tbody tr th:only-of-type {\n",
       "        vertical-align: middle;\n",
       "    }\n",
       "\n",
       "    .dataframe tbody tr th {\n",
       "        vertical-align: top;\n",
       "    }\n",
       "\n",
       "    .dataframe thead th {\n",
       "        text-align: right;\n",
       "    }\n",
       "</style>\n",
       "<table border=\"1\" class=\"dataframe\">\n",
       "  <thead>\n",
       "    <tr style=\"text-align: right;\">\n",
       "      <th></th>\n",
       "      <th>corr</th>\n",
       "      <th>abs_corr</th>\n",
       "    </tr>\n",
       "  </thead>\n",
       "  <tbody>\n",
       "    <tr>\n",
       "      <th>loc</th>\n",
       "      <td>0.342642</td>\n",
       "      <td>0.342642</td>\n",
       "    </tr>\n",
       "    <tr>\n",
       "      <th>branchCount</th>\n",
       "      <td>0.322827</td>\n",
       "      <td>0.322827</td>\n",
       "    </tr>\n",
       "    <tr>\n",
       "      <th>v(g)</th>\n",
       "      <td>0.301187</td>\n",
       "      <td>0.301187</td>\n",
       "    </tr>\n",
       "    <tr>\n",
       "      <th>ev(g)</th>\n",
       "      <td>0.259928</td>\n",
       "      <td>0.259928</td>\n",
       "    </tr>\n",
       "    <tr>\n",
       "      <th>n</th>\n",
       "      <td>0.258080</td>\n",
       "      <td>0.258080</td>\n",
       "    </tr>\n",
       "    <tr>\n",
       "      <th>lOBlank</th>\n",
       "      <td>0.257819</td>\n",
       "      <td>0.257819</td>\n",
       "    </tr>\n",
       "    <tr>\n",
       "      <th>l</th>\n",
       "      <td>-0.253237</td>\n",
       "      <td>0.253237</td>\n",
       "    </tr>\n",
       "    <tr>\n",
       "      <th>total_Opnd</th>\n",
       "      <td>0.252752</td>\n",
       "      <td>0.252752</td>\n",
       "    </tr>\n",
       "    <tr>\n",
       "      <th>lOCode</th>\n",
       "      <td>0.250604</td>\n",
       "      <td>0.250604</td>\n",
       "    </tr>\n",
       "    <tr>\n",
       "      <th>total_Op</th>\n",
       "      <td>0.250533</td>\n",
       "      <td>0.250533</td>\n",
       "    </tr>\n",
       "    <tr>\n",
       "      <th>uniq_Opnd</th>\n",
       "      <td>0.246113</td>\n",
       "      <td>0.246113</td>\n",
       "    </tr>\n",
       "    <tr>\n",
       "      <th>iv(g)</th>\n",
       "      <td>0.245618</td>\n",
       "      <td>0.245618</td>\n",
       "    </tr>\n",
       "    <tr>\n",
       "      <th>d</th>\n",
       "      <td>0.241936</td>\n",
       "      <td>0.241936</td>\n",
       "    </tr>\n",
       "    <tr>\n",
       "      <th>b</th>\n",
       "      <td>0.232594</td>\n",
       "      <td>0.232594</td>\n",
       "    </tr>\n",
       "    <tr>\n",
       "      <th>v</th>\n",
       "      <td>0.231179</td>\n",
       "      <td>0.231179</td>\n",
       "    </tr>\n",
       "    <tr>\n",
       "      <th>i</th>\n",
       "      <td>0.208577</td>\n",
       "      <td>0.208577</td>\n",
       "    </tr>\n",
       "    <tr>\n",
       "      <th>lOComment</th>\n",
       "      <td>0.205402</td>\n",
       "      <td>0.205402</td>\n",
       "    </tr>\n",
       "    <tr>\n",
       "      <th>uniq_Op</th>\n",
       "      <td>0.178474</td>\n",
       "      <td>0.178474</td>\n",
       "    </tr>\n",
       "    <tr>\n",
       "      <th>locCodeAndComment</th>\n",
       "      <td>0.133150</td>\n",
       "      <td>0.133150</td>\n",
       "    </tr>\n",
       "    <tr>\n",
       "      <th>t</th>\n",
       "      <td>0.099592</td>\n",
       "      <td>0.099592</td>\n",
       "    </tr>\n",
       "    <tr>\n",
       "      <th>e</th>\n",
       "      <td>0.095366</td>\n",
       "      <td>0.095366</td>\n",
       "    </tr>\n",
       "  </tbody>\n",
       "</table>\n",
       "</div>"
      ],
      "text/plain": [
       "                       corr  abs_corr\n",
       "loc                0.342642  0.342642\n",
       "branchCount        0.322827  0.322827\n",
       "v(g)               0.301187  0.301187\n",
       "ev(g)              0.259928  0.259928\n",
       "n                  0.258080  0.258080\n",
       "lOBlank            0.257819  0.257819\n",
       "l                 -0.253237  0.253237\n",
       "total_Opnd         0.252752  0.252752\n",
       "lOCode             0.250604  0.250604\n",
       "total_Op           0.250533  0.250533\n",
       "uniq_Opnd          0.246113  0.246113\n",
       "iv(g)              0.245618  0.245618\n",
       "d                  0.241936  0.241936\n",
       "b                  0.232594  0.232594\n",
       "v                  0.231179  0.231179\n",
       "i                  0.208577  0.208577\n",
       "lOComment          0.205402  0.205402\n",
       "uniq_Op            0.178474  0.178474\n",
       "locCodeAndComment  0.133150  0.133150\n",
       "t                  0.099592  0.099592\n",
       "e                  0.095366  0.095366"
      ]
     },
     "execution_count": 13,
     "metadata": {},
     "output_type": "execute_result"
    }
   ],
   "source": [
    "# check feature correlations with target\n",
    "corr = features.corrwith(target).to_frame()\n",
    "corr['abs_corr'] = corr.abs()\n",
    "corr.rename(columns = {0:'corr'}, inplace = True)\n",
    "corr.sort_values(by = 'abs_corr', ascending = 0)"
   ]
  },
  {
   "cell_type": "code",
   "execution_count": 14,
   "id": "72c8094c",
   "metadata": {
    "execution": {
     "iopub.execute_input": "2023-10-16T23:16:25.587939Z",
     "iopub.status.busy": "2023-10-16T23:16:25.586915Z",
     "iopub.status.idle": "2023-10-16T23:16:25.755248Z",
     "shell.execute_reply": "2023-10-16T23:16:25.754072Z"
    },
    "papermill": {
     "duration": 0.181476,
     "end_time": "2023-10-16T23:16:25.758218",
     "exception": false,
     "start_time": "2023-10-16T23:16:25.576742",
     "status": "completed"
    },
    "tags": []
   },
   "outputs": [
    {
     "data": {
      "text/html": [
       "<div>\n",
       "<style scoped>\n",
       "    .dataframe tbody tr th:only-of-type {\n",
       "        vertical-align: middle;\n",
       "    }\n",
       "\n",
       "    .dataframe tbody tr th {\n",
       "        vertical-align: top;\n",
       "    }\n",
       "\n",
       "    .dataframe thead th {\n",
       "        text-align: right;\n",
       "    }\n",
       "</style>\n",
       "<table border=\"1\" class=\"dataframe\">\n",
       "  <thead>\n",
       "    <tr style=\"text-align: right;\">\n",
       "      <th></th>\n",
       "      <th>level_0</th>\n",
       "      <th>level_1</th>\n",
       "      <th>0</th>\n",
       "    </tr>\n",
       "  </thead>\n",
       "  <tbody>\n",
       "    <tr>\n",
       "      <th>21</th>\n",
       "      <td>branchCount</td>\n",
       "      <td>v(g)</td>\n",
       "      <td>0.966702</td>\n",
       "    </tr>\n",
       "    <tr>\n",
       "      <th>22</th>\n",
       "      <td>v(g)</td>\n",
       "      <td>branchCount</td>\n",
       "      <td>0.966702</td>\n",
       "    </tr>\n",
       "    <tr>\n",
       "      <th>23</th>\n",
       "      <td>total_Op</td>\n",
       "      <td>n</td>\n",
       "      <td>0.963373</td>\n",
       "    </tr>\n",
       "    <tr>\n",
       "      <th>24</th>\n",
       "      <td>n</td>\n",
       "      <td>total_Op</td>\n",
       "      <td>0.963373</td>\n",
       "    </tr>\n",
       "    <tr>\n",
       "      <th>25</th>\n",
       "      <td>total_Opnd</td>\n",
       "      <td>total_Op</td>\n",
       "      <td>0.960626</td>\n",
       "    </tr>\n",
       "    <tr>\n",
       "      <th>...</th>\n",
       "      <td>...</td>\n",
       "      <td>...</td>\n",
       "      <td>...</td>\n",
       "    </tr>\n",
       "    <tr>\n",
       "      <th>436</th>\n",
       "      <td>locCodeAndComment</td>\n",
       "      <td>e</td>\n",
       "      <td>0.124604</td>\n",
       "    </tr>\n",
       "    <tr>\n",
       "      <th>437</th>\n",
       "      <td>t</td>\n",
       "      <td>l</td>\n",
       "      <td>0.097000</td>\n",
       "    </tr>\n",
       "    <tr>\n",
       "      <th>438</th>\n",
       "      <td>l</td>\n",
       "      <td>t</td>\n",
       "      <td>0.097000</td>\n",
       "    </tr>\n",
       "    <tr>\n",
       "      <th>439</th>\n",
       "      <td>l</td>\n",
       "      <td>e</td>\n",
       "      <td>0.091764</td>\n",
       "    </tr>\n",
       "    <tr>\n",
       "      <th>440</th>\n",
       "      <td>e</td>\n",
       "      <td>l</td>\n",
       "      <td>0.091764</td>\n",
       "    </tr>\n",
       "  </tbody>\n",
       "</table>\n",
       "<p>420 rows × 3 columns</p>\n",
       "</div>"
      ],
      "text/plain": [
       "               level_0      level_1         0\n",
       "21         branchCount         v(g)  0.966702\n",
       "22                v(g)  branchCount  0.966702\n",
       "23            total_Op            n  0.963373\n",
       "24                   n     total_Op  0.963373\n",
       "25          total_Opnd     total_Op  0.960626\n",
       "..                 ...          ...       ...\n",
       "436  locCodeAndComment            e  0.124604\n",
       "437                  t            l  0.097000\n",
       "438                  l            t  0.097000\n",
       "439                  l            e  0.091764\n",
       "440                  e            l  0.091764\n",
       "\n",
       "[420 rows x 3 columns]"
      ]
     },
     "execution_count": 14,
     "metadata": {},
     "output_type": "execute_result"
    }
   ],
   "source": [
    "feature_corr = features.corr().abs()\n",
    "feature_corr_v2 = feature_corr.unstack().sort_values(ascending = False).to_frame().reset_index()\n",
    "feature_corr_v2 = feature_corr_v2[feature_corr_v2['level_0']!=feature_corr_v2['level_1']]\n",
    "feature_corr_v2"
   ]
  },
  {
   "cell_type": "code",
   "execution_count": 15,
   "id": "f34e76fb",
   "metadata": {
    "execution": {
     "iopub.execute_input": "2023-10-16T23:16:25.779144Z",
     "iopub.status.busy": "2023-10-16T23:16:25.778786Z",
     "iopub.status.idle": "2023-10-16T23:16:25.783959Z",
     "shell.execute_reply": "2023-10-16T23:16:25.782876Z"
    },
    "papermill": {
     "duration": 0.018867,
     "end_time": "2023-10-16T23:16:25.786038",
     "exception": false,
     "start_time": "2023-10-16T23:16:25.767171",
     "status": "completed"
    },
    "tags": []
   },
   "outputs": [],
   "source": [
    "# feature_corr_mask = np.triu(feature_corr,k=0)\n",
    "\n",
    "# plt.figure(figsize=(16,8))\n",
    "# sns.heatmap(feature_corr,\n",
    "#            mask = feature_corr_mask,\n",
    "#            annot = True,\n",
    "#            fmt = '.1f',\n",
    "#            cmap = 'coolwarm',\n",
    "#            linewidth = 0.1,\n",
    "#            cbar = True\n",
    "#            )\n",
    "\n",
    "# plt.suptitle(\"Features Correlation Heatmap\", weight = 'bold', size = 20)\n",
    "# plt.tight_layout()"
   ]
  },
  {
   "cell_type": "markdown",
   "id": "663645c9",
   "metadata": {
    "papermill": {
     "duration": 0.010549,
     "end_time": "2023-10-16T23:16:25.805335",
     "exception": false,
     "start_time": "2023-10-16T23:16:25.794786",
     "status": "completed"
    },
    "tags": []
   },
   "source": [
    "- there are several pairs of features that are highly correlated with each other; need to either remove, or use dimension deduction techniques to condense information, or choose tree-method which is immune to feature correlation.\n",
    "\n",
    "- variables that are highly-correlated with other features: loc, n, v, d, b, IOCode, uniq_Opnd, total_Op, total_Opnd\n",
    "\n",
    "1) loc & v(g); v(g) & ev(g); n & v\n",
    "2) loc & iv(g); v(g) & iv(g); n & d\n",
    "3) loc & n; v(g) & branchCount; n & i\n",
    "4) loc & v; n & b;\n",
    "5) loc & b; n & IOCode\n",
    "6) loc & IOCode; n & IOBlank\n",
    "7) loc & IOBlank; n & Uniq_Opnd\n",
    "8) loc & total_Op; n & total_Op;\n",
    "9) loc & total_Opnd; n & total_Opnd\n",
    "10) loc & branchCount.."
   ]
  },
  {
   "cell_type": "code",
   "execution_count": 16,
   "id": "08adf677",
   "metadata": {
    "execution": {
     "iopub.execute_input": "2023-10-16T23:16:25.824210Z",
     "iopub.status.busy": "2023-10-16T23:16:25.823730Z",
     "iopub.status.idle": "2023-10-16T23:16:25.835817Z",
     "shell.execute_reply": "2023-10-16T23:16:25.834628Z"
    },
    "papermill": {
     "duration": 0.024438,
     "end_time": "2023-10-16T23:16:25.838253",
     "exception": false,
     "start_time": "2023-10-16T23:16:25.813815",
     "status": "completed"
    },
    "tags": []
   },
   "outputs": [
    {
     "data": {
      "text/html": [
       "<div>\n",
       "<style scoped>\n",
       "    .dataframe tbody tr th:only-of-type {\n",
       "        vertical-align: middle;\n",
       "    }\n",
       "\n",
       "    .dataframe tbody tr th {\n",
       "        vertical-align: top;\n",
       "    }\n",
       "\n",
       "    .dataframe thead th {\n",
       "        text-align: right;\n",
       "    }\n",
       "</style>\n",
       "<table border=\"1\" class=\"dataframe\">\n",
       "  <thead>\n",
       "    <tr style=\"text-align: right;\">\n",
       "      <th></th>\n",
       "      <th>level_0</th>\n",
       "      <th>level_1</th>\n",
       "      <th>0</th>\n",
       "    </tr>\n",
       "  </thead>\n",
       "  <tbody>\n",
       "    <tr>\n",
       "      <th>21</th>\n",
       "      <td>branchCount</td>\n",
       "      <td>v(g)</td>\n",
       "      <td>0.966702</td>\n",
       "    </tr>\n",
       "    <tr>\n",
       "      <th>22</th>\n",
       "      <td>v(g)</td>\n",
       "      <td>branchCount</td>\n",
       "      <td>0.966702</td>\n",
       "    </tr>\n",
       "    <tr>\n",
       "      <th>23</th>\n",
       "      <td>total_Op</td>\n",
       "      <td>n</td>\n",
       "      <td>0.963373</td>\n",
       "    </tr>\n",
       "  </tbody>\n",
       "</table>\n",
       "</div>"
      ],
      "text/plain": [
       "        level_0      level_1         0\n",
       "21  branchCount         v(g)  0.966702\n",
       "22         v(g)  branchCount  0.966702\n",
       "23     total_Op            n  0.963373"
      ]
     },
     "execution_count": 16,
     "metadata": {},
     "output_type": "execute_result"
    }
   ],
   "source": [
    "high_corr_features = feature_corr_v2[feature_corr_v2[0]>0.8]\n",
    "high_corr_features.head(3)"
   ]
  },
  {
   "cell_type": "code",
   "execution_count": 17,
   "id": "144a060d",
   "metadata": {
    "execution": {
     "iopub.execute_input": "2023-10-16T23:16:25.858812Z",
     "iopub.status.busy": "2023-10-16T23:16:25.857869Z",
     "iopub.status.idle": "2023-10-16T23:16:25.867035Z",
     "shell.execute_reply": "2023-10-16T23:16:25.865731Z"
    },
    "papermill": {
     "duration": 0.02201,
     "end_time": "2023-10-16T23:16:25.869372",
     "exception": false,
     "start_time": "2023-10-16T23:16:25.847362",
     "status": "completed"
    },
    "tags": []
   },
   "outputs": [
    {
     "data": {
      "text/plain": [
       "'branchCount'"
      ]
     },
     "execution_count": 17,
     "metadata": {},
     "output_type": "execute_result"
    }
   ],
   "source": [
    "high_corr_features.reset_index().loc[0,'level_0']"
   ]
  },
  {
   "cell_type": "code",
   "execution_count": 18,
   "id": "a71c520e",
   "metadata": {
    "execution": {
     "iopub.execute_input": "2023-10-16T23:16:25.890472Z",
     "iopub.status.busy": "2023-10-16T23:16:25.889224Z",
     "iopub.status.idle": "2023-10-16T23:16:25.894731Z",
     "shell.execute_reply": "2023-10-16T23:16:25.893651Z"
    },
    "papermill": {
     "duration": 0.018292,
     "end_time": "2023-10-16T23:16:25.896998",
     "exception": false,
     "start_time": "2023-10-16T23:16:25.878706",
     "status": "completed"
    },
    "tags": []
   },
   "outputs": [],
   "source": [
    "# # examine if outliers are the reasons why features are highly-correlated with each other\n",
    "\n",
    "# fig, axes = plt.subplots(4,6, figsize = (16,6))\n",
    "# axes = axes.flatten()\n",
    "\n",
    "# i = 0\n",
    "# for row in range(0,48,2):\n",
    "#     feature_a = high_corr_features.reset_index(drop = True).loc[row, ['level_0','level_1']][0]\n",
    "#     feature_b = high_corr_features.reset_index(drop = True).loc[row, ['level_0','level_1']][1]\n",
    "    \n",
    "#     sns.regplot(features, x = feature_a, y = feature_b, ci = None, order = 1, ax = axes[i], scatter_kws={'color':'red', 's':1.5}, line_kws={'color':'black', 'linewidth':1.5})\n",
    "    \n",
    "#     i+=1\n",
    "\n",
    "# plt.tight_layout()\n",
    "    "
   ]
  },
  {
   "cell_type": "code",
   "execution_count": 19,
   "id": "dd07f99d",
   "metadata": {
    "execution": {
     "iopub.execute_input": "2023-10-16T23:16:25.918095Z",
     "iopub.status.busy": "2023-10-16T23:16:25.916925Z",
     "iopub.status.idle": "2023-10-16T23:16:25.921468Z",
     "shell.execute_reply": "2023-10-16T23:16:25.920550Z"
    },
    "papermill": {
     "duration": 0.017328,
     "end_time": "2023-10-16T23:16:25.923858",
     "exception": false,
     "start_time": "2023-10-16T23:16:25.906530",
     "status": "completed"
    },
    "tags": []
   },
   "outputs": [],
   "source": [
    "# # regplots after deweighting outliers\n",
    "# fig, axes = plt.subplots(4, 6, figsize = (16, 8))\n",
    "# axes = axes.flatten()\n",
    "\n",
    "# i = 0 \n",
    "# for row in range(0,48,2):\n",
    "#     feature_a = high_corr_features.reset_index(drop=True).loc[row, 'level_0']\n",
    "#     feature_b = high_corr_features.reset_index(drop=True).loc[row, 'level_1']\n",
    "    \n",
    "#     sns.regplot(features, x = feature_a, y = feature_b, order = 1, robust = True, scatter_kws={'color':'red', 's':1.5}, line_kws={'color':'black', 'linewidth':1.5})\n",
    "    \n",
    "#     i+=1\n",
    "\n",
    "# plt.tight_layout()"
   ]
  },
  {
   "cell_type": "markdown",
   "id": "6296e345",
   "metadata": {
    "papermill": {
     "duration": 0.00891,
     "end_time": "2023-10-16T23:16:25.942652",
     "exception": false,
     "start_time": "2023-10-16T23:16:25.933742",
     "status": "completed"
    },
    "tags": []
   },
   "source": [
    "- regplot with robust = True takes reallllllly long time to run...better be worth the time. \n",
    "- take too much time to run, give up"
   ]
  },
  {
   "cell_type": "markdown",
   "id": "ca77ebb1",
   "metadata": {
    "papermill": {
     "duration": 0.008941,
     "end_time": "2023-10-16T23:16:26.057575",
     "exception": false,
     "start_time": "2023-10-16T23:16:26.048634",
     "status": "completed"
    },
    "tags": []
   },
   "source": [
    "# Build Baseline Model"
   ]
  },
  {
   "cell_type": "code",
   "execution_count": 20,
   "id": "b4241844",
   "metadata": {
    "execution": {
     "iopub.execute_input": "2023-10-16T23:16:26.078366Z",
     "iopub.status.busy": "2023-10-16T23:16:26.077971Z",
     "iopub.status.idle": "2023-10-16T23:16:31.081310Z",
     "shell.execute_reply": "2023-10-16T23:16:31.080525Z"
    },
    "papermill": {
     "duration": 5.017578,
     "end_time": "2023-10-16T23:16:31.084700",
     "exception": false,
     "start_time": "2023-10-16T23:16:26.067122",
     "status": "completed"
    },
    "tags": []
   },
   "outputs": [
    {
     "data": {
      "image/png": "[encoded data removed]",
      "text/plain": [
       "<Figure size 1600x800 with 25 Axes>"
      ]
     },
     "metadata": {},
     "output_type": "display_data"
    }
   ],
   "source": [
    "# before scaling & normalization \n",
    "fig, axes = plt.subplots(5,5, figsize=(16,8), constrained_layout = True)\n",
    "axes = axes.flatten()\n",
    "\n",
    "for i in range(21):\n",
    "    sns.boxplot(data = train.drop(['id'],axis = 1), x = features.columns.tolist()[i], ax = axes[i])"
   ]
  },
  {
   "cell_type": "code",
   "execution_count": 21,
   "id": "fd464666",
   "metadata": {
    "execution": {
     "iopub.execute_input": "2023-10-16T23:16:31.109719Z",
     "iopub.status.busy": "2023-10-16T23:16:31.109322Z",
     "iopub.status.idle": "2023-10-16T23:16:37.575277Z",
     "shell.execute_reply": "2023-10-16T23:16:37.574444Z"
    },
    "papermill": {
     "duration": 6.481575,
     "end_time": "2023-10-16T23:16:37.577819",
     "exception": false,
     "start_time": "2023-10-16T23:16:31.096244",
     "status": "completed"
    },
    "tags": []
   },
   "outputs": [
    {
     "data": {
      "image/png": "[encoded data removed]",
      "text/plain": [
       "<Figure size 1600x800 with 25 Axes>"
      ]
     },
     "metadata": {},
     "output_type": "display_data"
    }
   ],
   "source": [
    "# after scaling & normalization \n",
    "fig, axes = plt.subplots(5,5, figsize=(16,8), constrained_layout = True)\n",
    "axes = axes.flatten()\n",
    "\n",
    "train_copy = copy.deepcopy(train)\n",
    "FEATURES = train_copy.drop(['id','defects'], axis = 1)\n",
    "\n",
    "\n",
    "for i in range(FEATURES.shape[1]):\n",
    "    FEATURES.iloc[:,i] = stats.boxcox(FEATURES.iloc[:,i]+1e-13)[0]\n",
    "\n",
    "# standardization\n",
    "MMS = MinMaxScaler()\n",
    "MMS.fit(FEATURES)\n",
    "FEATURES_scaled = MMS.transform(FEATURES)\n",
    "\n",
    "for i in range(21):\n",
    "    sns.boxplot(data = FEATURES, x = FEATURES.columns.tolist()[i], ax = axes[i])"
   ]
  },
  {
   "cell_type": "code",
   "execution_count": 22,
   "id": "1c7f38c2",
   "metadata": {
    "execution": {
     "iopub.execute_input": "2023-10-16T23:16:37.605453Z",
     "iopub.status.busy": "2023-10-16T23:16:37.604626Z",
     "iopub.status.idle": "2023-10-16T23:16:43.846704Z",
     "shell.execute_reply": "2023-10-16T23:16:43.845652Z"
    },
    "papermill": {
     "duration": 6.260992,
     "end_time": "2023-10-16T23:16:43.850881",
     "exception": false,
     "start_time": "2023-10-16T23:16:37.589889",
     "status": "completed"
    },
    "tags": []
   },
   "outputs": [
    {
     "data": {
      "text/html": [
       "<div>\n",
       "<style scoped>\n",
       "    .dataframe tbody tr th:only-of-type {\n",
       "        vertical-align: middle;\n",
       "    }\n",
       "\n",
       "    .dataframe tbody tr th {\n",
       "        vertical-align: top;\n",
       "    }\n",
       "\n",
       "    .dataframe thead th {\n",
       "        text-align: right;\n",
       "    }\n",
       "</style>\n",
       "<table border=\"1\" class=\"dataframe\">\n",
       "  <thead>\n",
       "    <tr style=\"text-align: right;\">\n",
       "      <th></th>\n",
       "      <th>feature</th>\n",
       "      <th>vif</th>\n",
       "    </tr>\n",
       "  </thead>\n",
       "  <tbody>\n",
       "    <tr>\n",
       "      <th>20</th>\n",
       "      <td>branchCount</td>\n",
       "      <td>30.621024</td>\n",
       "    </tr>\n",
       "    <tr>\n",
       "      <th>1</th>\n",
       "      <td>v(g)</td>\n",
       "      <td>29.859972</td>\n",
       "    </tr>\n",
       "    <tr>\n",
       "      <th>19</th>\n",
       "      <td>total_Opnd</td>\n",
       "      <td>28.862048</td>\n",
       "    </tr>\n",
       "    <tr>\n",
       "      <th>18</th>\n",
       "      <td>total_Op</td>\n",
       "      <td>28.509749</td>\n",
       "    </tr>\n",
       "    <tr>\n",
       "      <th>4</th>\n",
       "      <td>n</td>\n",
       "      <td>24.689084</td>\n",
       "    </tr>\n",
       "    <tr>\n",
       "      <th>5</th>\n",
       "      <td>v</td>\n",
       "      <td>15.373596</td>\n",
       "    </tr>\n",
       "    <tr>\n",
       "      <th>12</th>\n",
       "      <td>lOCode</td>\n",
       "      <td>13.876799</td>\n",
       "    </tr>\n",
       "    <tr>\n",
       "      <th>10</th>\n",
       "      <td>b</td>\n",
       "      <td>13.467452</td>\n",
       "    </tr>\n",
       "    <tr>\n",
       "      <th>7</th>\n",
       "      <td>d</td>\n",
       "      <td>11.519900</td>\n",
       "    </tr>\n",
       "    <tr>\n",
       "      <th>16</th>\n",
       "      <td>uniq_Op</td>\n",
       "      <td>11.263437</td>\n",
       "    </tr>\n",
       "    <tr>\n",
       "      <th>17</th>\n",
       "      <td>uniq_Opnd</td>\n",
       "      <td>10.457109</td>\n",
       "    </tr>\n",
       "    <tr>\n",
       "      <th>8</th>\n",
       "      <td>i</td>\n",
       "      <td>9.364301</td>\n",
       "    </tr>\n",
       "    <tr>\n",
       "      <th>0</th>\n",
       "      <td>loc</td>\n",
       "      <td>6.816061</td>\n",
       "    </tr>\n",
       "    <tr>\n",
       "      <th>14</th>\n",
       "      <td>lOBlank</td>\n",
       "      <td>4.542893</td>\n",
       "    </tr>\n",
       "    <tr>\n",
       "      <th>3</th>\n",
       "      <td>iv(g)</td>\n",
       "      <td>4.459657</td>\n",
       "    </tr>\n",
       "    <tr>\n",
       "      <th>2</th>\n",
       "      <td>ev(g)</td>\n",
       "      <td>3.735640</td>\n",
       "    </tr>\n",
       "    <tr>\n",
       "      <th>11</th>\n",
       "      <td>t</td>\n",
       "      <td>3.191747</td>\n",
       "    </tr>\n",
       "    <tr>\n",
       "      <th>9</th>\n",
       "      <td>e</td>\n",
       "      <td>3.155124</td>\n",
       "    </tr>\n",
       "    <tr>\n",
       "      <th>6</th>\n",
       "      <td>l</td>\n",
       "      <td>1.849539</td>\n",
       "    </tr>\n",
       "    <tr>\n",
       "      <th>13</th>\n",
       "      <td>lOComment</td>\n",
       "      <td>1.798800</td>\n",
       "    </tr>\n",
       "    <tr>\n",
       "      <th>15</th>\n",
       "      <td>locCodeAndComment</td>\n",
       "      <td>1.160239</td>\n",
       "    </tr>\n",
       "  </tbody>\n",
       "</table>\n",
       "</div>"
      ],
      "text/plain": [
       "              feature        vif\n",
       "20        branchCount  30.621024\n",
       "1                v(g)  29.859972\n",
       "19         total_Opnd  28.862048\n",
       "18           total_Op  28.509749\n",
       "4                   n  24.689084\n",
       "5                   v  15.373596\n",
       "12             lOCode  13.876799\n",
       "10                  b  13.467452\n",
       "7                   d  11.519900\n",
       "16            uniq_Op  11.263437\n",
       "17          uniq_Opnd  10.457109\n",
       "8                   i   9.364301\n",
       "0                 loc   6.816061\n",
       "14            lOBlank   4.542893\n",
       "3               iv(g)   4.459657\n",
       "2               ev(g)   3.735640\n",
       "11                  t   3.191747\n",
       "9                   e   3.155124\n",
       "6                   l   1.849539\n",
       "13          lOComment   1.798800\n",
       "15  locCodeAndComment   1.160239"
      ]
     },
     "execution_count": 22,
     "metadata": {},
     "output_type": "execute_result"
    }
   ],
   "source": [
    "# calculate vif for each feature to evaluate multi-collinearity\n",
    "from statsmodels.stats.outliers_influence import variance_inflation_factor\n",
    "\n",
    "vif = pd.DataFrame()\n",
    "vif[\"feature\"] = features.columns\n",
    "vif[\"vif\"] = [variance_inflation_factor(features.values,i) for i in range(len(features.columns.tolist()))]\n",
    "vif = vif.sort_values(by = 'vif', ascending = 0)\n",
    "vif"
   ]
  },
  {
   "cell_type": "code",
   "execution_count": 23,
   "id": "6bef8aa7",
   "metadata": {
    "execution": {
     "iopub.execute_input": "2023-10-16T23:16:43.918696Z",
     "iopub.status.busy": "2023-10-16T23:16:43.918047Z",
     "iopub.status.idle": "2023-10-16T23:16:43.935520Z",
     "shell.execute_reply": "2023-10-16T23:16:43.934108Z"
    },
    "papermill": {
     "duration": 0.054949,
     "end_time": "2023-10-16T23:16:43.940275",
     "exception": false,
     "start_time": "2023-10-16T23:16:43.885326",
     "status": "completed"
    },
    "tags": []
   },
   "outputs": [
    {
     "data": {
      "text/plain": [
       "['branchCount', 'v(g)']"
      ]
     },
     "execution_count": 23,
     "metadata": {},
     "output_type": "execute_result"
    }
   ],
   "source": [
    "vif['feature'][0:2].tolist()"
   ]
  },
  {
   "cell_type": "code",
   "execution_count": 24,
   "id": "88899d16",
   "metadata": {
    "execution": {
     "iopub.execute_input": "2023-10-16T23:16:43.966642Z",
     "iopub.status.busy": "2023-10-16T23:16:43.966311Z",
     "iopub.status.idle": "2023-10-16T23:16:44.004607Z",
     "shell.execute_reply": "2023-10-16T23:16:44.002538Z"
    },
    "papermill": {
     "duration": 0.054925,
     "end_time": "2023-10-16T23:16:44.008480",
     "exception": false,
     "start_time": "2023-10-16T23:16:43.953555",
     "status": "completed"
    },
    "tags": []
   },
   "outputs": [],
   "source": [
    "# parameters = {\n",
    "# 'solver':['liblinear','sag','saga'],    \n",
    "# 'penalty':['l1','l2'],    \n",
    "#  'max_iter':[300,400,500], \n",
    "# 'C': [1.0, 2.0,3.0, 4.0, 5.0]\n",
    "# }\n",
    "\n",
    "# best parameters: C:4.0, solver:saga, penalty:l1, max_iter:400\n",
    "\n",
    "X = features.drop(vif['feature'][0:2].tolist(), axis = 1)\n",
    "y = target\n",
    "\n",
    "X_train, X_test, y_train, y_test = train_test_split(X, y, test_size = 0.2, random_state = 42)"
   ]
  },
  {
   "cell_type": "code",
   "execution_count": 25,
   "id": "b684683b",
   "metadata": {
    "execution": {
     "iopub.execute_input": "2023-10-16T23:16:44.041938Z",
     "iopub.status.busy": "2023-10-16T23:16:44.041582Z",
     "iopub.status.idle": "2023-10-16T23:16:45.733792Z",
     "shell.execute_reply": "2023-10-16T23:16:45.732654Z"
    },
    "papermill": {
     "duration": 1.70922,
     "end_time": "2023-10-16T23:16:45.736659",
     "exception": false,
     "start_time": "2023-10-16T23:16:44.027439",
     "status": "completed"
    },
    "tags": []
   },
   "outputs": [],
   "source": [
    "# boxcox nomarlization\n",
    "\n",
    "for i in range(X_train.shape[1]):\n",
    "    X_train.iloc[:,i] = stats.boxcox(X_train.iloc[:,i]+1e-13)[0]\n",
    "\n",
    "for i in range(X_test.shape[1]):\n",
    "    X_test.iloc[:,i] = stats.boxcox(X_test.iloc[:,i]+1e-13)[0]\n",
    "\n",
    "# standardization\n",
    "mms = MinMaxScaler()\n",
    "mms.fit(X_train)\n",
    "X_train_scaled = mms.transform(X_train)\n",
    "X_test_scaled = mms.transform(X_test)"
   ]
  },
  {
   "cell_type": "code",
   "execution_count": 26,
   "id": "91307aa2",
   "metadata": {
    "execution": {
     "iopub.execute_input": "2023-10-16T23:16:45.762799Z",
     "iopub.status.busy": "2023-10-16T23:16:45.762374Z",
     "iopub.status.idle": "2023-10-16T23:16:55.902352Z",
     "shell.execute_reply": "2023-10-16T23:16:55.897648Z"
    },
    "papermill": {
     "duration": 10.158596,
     "end_time": "2023-10-16T23:16:55.907399",
     "exception": false,
     "start_time": "2023-10-16T23:16:45.748803",
     "status": "completed"
    },
    "tags": []
   },
   "outputs": [
    {
     "name": "stdout",
     "output_type": "stream",
     "text": [
      "roc_auc_score of the baseline logistic model is: 0.7802\n"
     ]
    }
   ],
   "source": [
    "# train the mod__class_getitem__el\n",
    "lg = LogisticRegression(solver='saga', penalty='l1', C = 4.0, max_iter=400)\n",
    "lg.fit(X_train_scaled, y_train)\n",
    "# clf = GridSearchCV(lg, parameters, scoring = 'roc_auc',verbose = 0)\n",
    "# clf.fit(X_train_scaled, y_train)\n",
    "y_pred = lg.predict_proba(X_test_scaled)[:,1]\n",
    "lg_roc_auc_score = roc_auc_score(y_test, y_pred)\n",
    "print(\"roc_auc_score of the baseline logistic model is: {:.4f}\". format(lg_roc_auc_score))"
   ]
  },
  {
   "cell_type": "code",
   "execution_count": 27,
   "id": "c1c3ba78",
   "metadata": {
    "execution": {
     "iopub.execute_input": "2023-10-16T23:16:55.985240Z",
     "iopub.status.busy": "2023-10-16T23:16:55.984556Z",
     "iopub.status.idle": "2023-10-16T23:16:56.003114Z",
     "shell.execute_reply": "2023-10-16T23:16:56.000010Z"
    },
    "papermill": {
     "duration": 0.057279,
     "end_time": "2023-10-16T23:16:56.005845",
     "exception": false,
     "start_time": "2023-10-16T23:16:55.948566",
     "status": "completed"
    },
    "tags": []
   },
   "outputs": [
    {
     "data": {
      "text/html": [
       "<div>\n",
       "<style scoped>\n",
       "    .dataframe tbody tr th:only-of-type {\n",
       "        vertical-align: middle;\n",
       "    }\n",
       "\n",
       "    .dataframe tbody tr th {\n",
       "        vertical-align: top;\n",
       "    }\n",
       "\n",
       "    .dataframe thead th {\n",
       "        text-align: right;\n",
       "    }\n",
       "</style>\n",
       "<table border=\"1\" class=\"dataframe\">\n",
       "  <thead>\n",
       "    <tr style=\"text-align: right;\">\n",
       "      <th></th>\n",
       "      <th>feature_name</th>\n",
       "      <th>feature_coef</th>\n",
       "    </tr>\n",
       "  </thead>\n",
       "  <tbody>\n",
       "    <tr>\n",
       "      <th>6</th>\n",
       "      <td>d</td>\n",
       "      <td>-4.93</td>\n",
       "    </tr>\n",
       "    <tr>\n",
       "      <th>11</th>\n",
       "      <td>lOCode</td>\n",
       "      <td>-4.75</td>\n",
       "    </tr>\n",
       "    <tr>\n",
       "      <th>18</th>\n",
       "      <td>total_Opnd</td>\n",
       "      <td>-3.80</td>\n",
       "    </tr>\n",
       "    <tr>\n",
       "      <th>7</th>\n",
       "      <td>i</td>\n",
       "      <td>-3.34</td>\n",
       "    </tr>\n",
       "    <tr>\n",
       "      <th>13</th>\n",
       "      <td>lOBlank</td>\n",
       "      <td>-0.44</td>\n",
       "    </tr>\n",
       "    <tr>\n",
       "      <th>12</th>\n",
       "      <td>lOComment</td>\n",
       "      <td>-0.01</td>\n",
       "    </tr>\n",
       "    <tr>\n",
       "      <th>1</th>\n",
       "      <td>ev(g)</td>\n",
       "      <td>0.10</td>\n",
       "    </tr>\n",
       "    <tr>\n",
       "      <th>17</th>\n",
       "      <td>total_Op</td>\n",
       "      <td>0.14</td>\n",
       "    </tr>\n",
       "    <tr>\n",
       "      <th>14</th>\n",
       "      <td>locCodeAndComment</td>\n",
       "      <td>0.20</td>\n",
       "    </tr>\n",
       "    <tr>\n",
       "      <th>2</th>\n",
       "      <td>iv(g)</td>\n",
       "      <td>0.37</td>\n",
       "    </tr>\n",
       "    <tr>\n",
       "      <th>4</th>\n",
       "      <td>v</td>\n",
       "      <td>1.00</td>\n",
       "    </tr>\n",
       "    <tr>\n",
       "      <th>15</th>\n",
       "      <td>uniq_Op</td>\n",
       "      <td>1.23</td>\n",
       "    </tr>\n",
       "    <tr>\n",
       "      <th>16</th>\n",
       "      <td>uniq_Opnd</td>\n",
       "      <td>1.47</td>\n",
       "    </tr>\n",
       "    <tr>\n",
       "      <th>10</th>\n",
       "      <td>t</td>\n",
       "      <td>1.48</td>\n",
       "    </tr>\n",
       "    <tr>\n",
       "      <th>9</th>\n",
       "      <td>b</td>\n",
       "      <td>1.66</td>\n",
       "    </tr>\n",
       "    <tr>\n",
       "      <th>8</th>\n",
       "      <td>e</td>\n",
       "      <td>1.94</td>\n",
       "    </tr>\n",
       "    <tr>\n",
       "      <th>5</th>\n",
       "      <td>l</td>\n",
       "      <td>2.55</td>\n",
       "    </tr>\n",
       "    <tr>\n",
       "      <th>3</th>\n",
       "      <td>n</td>\n",
       "      <td>6.35</td>\n",
       "    </tr>\n",
       "    <tr>\n",
       "      <th>0</th>\n",
       "      <td>loc</td>\n",
       "      <td>12.30</td>\n",
       "    </tr>\n",
       "  </tbody>\n",
       "</table>\n",
       "</div>"
      ],
      "text/plain": [
       "         feature_name  feature_coef\n",
       "6                   d         -4.93\n",
       "11             lOCode         -4.75\n",
       "18         total_Opnd         -3.80\n",
       "7                   i         -3.34\n",
       "13            lOBlank         -0.44\n",
       "12          lOComment         -0.01\n",
       "1               ev(g)          0.10\n",
       "17           total_Op          0.14\n",
       "14  locCodeAndComment          0.20\n",
       "2               iv(g)          0.37\n",
       "4                   v          1.00\n",
       "15            uniq_Op          1.23\n",
       "16          uniq_Opnd          1.47\n",
       "10                  t          1.48\n",
       "9                   b          1.66\n",
       "8                   e          1.94\n",
       "5                   l          2.55\n",
       "3                   n          6.35\n",
       "0                 loc         12.30"
      ]
     },
     "execution_count": 27,
     "metadata": {},
     "output_type": "execute_result"
    }
   ],
   "source": [
    "pd.DataFrame({'feature_name':X_train.columns,'feature_coef':lg.coef_.round(2).reshape(-1)}).sort_values(by='feature_coef', ascending = 1)"
   ]
  },
  {
   "cell_type": "markdown",
   "id": "b6f1865b",
   "metadata": {
    "papermill": {
     "duration": 0.011607,
     "end_time": "2023-10-16T23:16:56.039010",
     "exception": false,
     "start_time": "2023-10-16T23:16:56.027403",
     "status": "completed"
    },
    "tags": []
   },
   "source": [
    "- v, e, t, n is almost shrinked to zero. make sense bc they either rarely correlates with target, or they are highly correlated with other variables.\n",
    "- baseline model 0.7764 with l1 penalty.\n",
    "- e1: perform feature scaling by minmaxscaler, 0.7768.\n",
    "- e2: perform feature normalizing with boxcox on all features, 0.7646\n",
    "- e3: gridsearch to find best parameters; elastcnet requires C and l1_ratio, making it hard to add it to the process.takes so long to train. didnt find the best parameters that beat 0.7768.\n",
    "- e4: e1 + e2 + e3, 0.7802\n",
    "- e5: remove features with top 2 vif score: 'branchCount', 'v(g)', 0.7802\n",
    "- e6: class imbalance"
   ]
  },
  {
   "cell_type": "markdown",
   "id": "417ce9a2",
   "metadata": {
    "papermill": {
     "duration": 0.01208,
     "end_time": "2023-10-16T23:16:56.064183",
     "exception": false,
     "start_time": "2023-10-16T23:16:56.052103",
     "status": "completed"
    },
    "tags": []
   },
   "source": [
    "# Submission"
   ]
  },
  {
   "cell_type": "code",
   "execution_count": 28,
   "id": "65250124",
   "metadata": {
    "execution": {
     "iopub.execute_input": "2023-10-16T23:16:56.091321Z",
     "iopub.status.busy": "2023-10-16T23:16:56.090431Z",
     "iopub.status.idle": "2023-10-16T23:16:57.186482Z",
     "shell.execute_reply": "2023-10-16T23:16:57.185523Z"
    },
    "papermill": {
     "duration": 1.112638,
     "end_time": "2023-10-16T23:16:57.189160",
     "exception": false,
     "start_time": "2023-10-16T23:16:56.076522",
     "status": "completed"
    },
    "tags": []
   },
   "outputs": [],
   "source": [
    "test = test.drop(['id']+vif['feature'][0:2].tolist(), axis = 1)\n",
    "\n",
    "# normalization\n",
    "for i in range(test.shape[1]):\n",
    "    test.iloc[:,i] = stats.boxcox(test.iloc[:,i]+1e-13)[0]\n",
    "\n",
    "# standardization\n",
    "mms_test = MinMaxScaler()\n",
    "mms_test.fit(test)\n",
    "test_scaled = mms_test.transform(test)"
   ]
  },
  {
   "cell_type": "code",
   "execution_count": 29,
   "id": "fed4eb4b",
   "metadata": {
    "execution": {
     "iopub.execute_input": "2023-10-16T23:16:57.217659Z",
     "iopub.status.busy": "2023-10-16T23:16:57.217270Z",
     "iopub.status.idle": "2023-10-16T23:16:57.234509Z",
     "shell.execute_reply": "2023-10-16T23:16:57.232547Z"
    },
    "papermill": {
     "duration": 0.036723,
     "end_time": "2023-10-16T23:16:57.239352",
     "exception": false,
     "start_time": "2023-10-16T23:16:57.202629",
     "status": "completed"
    },
    "tags": []
   },
   "outputs": [
    {
     "data": {
      "text/plain": [
       "array([0.2107281 , 0.17342438, 0.64335652, ..., 0.16738562, 0.09777877,\n",
       "       0.72767486])"
      ]
     },
     "execution_count": 29,
     "metadata": {},
     "output_type": "execute_result"
    }
   ],
   "source": [
    "test_pred = lg.predict_proba(test_scaled)[:,1]\n",
    "test_pred"
   ]
  },
  {
   "cell_type": "code",
   "execution_count": 30,
   "id": "134e23d6",
   "metadata": {
    "execution": {
     "iopub.execute_input": "2023-10-16T23:16:57.309133Z",
     "iopub.status.busy": "2023-10-16T23:16:57.308396Z",
     "iopub.status.idle": "2023-10-16T23:16:57.331864Z",
     "shell.execute_reply": "2023-10-16T23:16:57.330275Z"
    },
    "papermill": {
     "duration": 0.063641,
     "end_time": "2023-10-16T23:16:57.337082",
     "exception": false,
     "start_time": "2023-10-16T23:16:57.273441",
     "status": "completed"
    },
    "tags": []
   },
   "outputs": [
    {
     "data": {
      "text/html": [
       "<div>\n",
       "<style scoped>\n",
       "    .dataframe tbody tr th:only-of-type {\n",
       "        vertical-align: middle;\n",
       "    }\n",
       "\n",
       "    .dataframe tbody tr th {\n",
       "        vertical-align: top;\n",
       "    }\n",
       "\n",
       "    .dataframe thead th {\n",
       "        text-align: right;\n",
       "    }\n",
       "</style>\n",
       "<table border=\"1\" class=\"dataframe\">\n",
       "  <thead>\n",
       "    <tr style=\"text-align: right;\">\n",
       "      <th></th>\n",
       "      <th>id</th>\n",
       "      <th>defects</th>\n",
       "    </tr>\n",
       "  </thead>\n",
       "  <tbody>\n",
       "    <tr>\n",
       "      <th>0</th>\n",
       "      <td>101763</td>\n",
       "      <td>0.210728</td>\n",
       "    </tr>\n",
       "    <tr>\n",
       "      <th>1</th>\n",
       "      <td>101764</td>\n",
       "      <td>0.173424</td>\n",
       "    </tr>\n",
       "    <tr>\n",
       "      <th>2</th>\n",
       "      <td>101765</td>\n",
       "      <td>0.643357</td>\n",
       "    </tr>\n",
       "    <tr>\n",
       "      <th>3</th>\n",
       "      <td>101766</td>\n",
       "      <td>0.406191</td>\n",
       "    </tr>\n",
       "    <tr>\n",
       "      <th>4</th>\n",
       "      <td>101767</td>\n",
       "      <td>0.137586</td>\n",
       "    </tr>\n",
       "    <tr>\n",
       "      <th>...</th>\n",
       "      <td>...</td>\n",
       "      <td>...</td>\n",
       "    </tr>\n",
       "    <tr>\n",
       "      <th>67837</th>\n",
       "      <td>169600</td>\n",
       "      <td>0.238683</td>\n",
       "    </tr>\n",
       "    <tr>\n",
       "      <th>67838</th>\n",
       "      <td>169601</td>\n",
       "      <td>0.132879</td>\n",
       "    </tr>\n",
       "    <tr>\n",
       "      <th>67839</th>\n",
       "      <td>169602</td>\n",
       "      <td>0.167386</td>\n",
       "    </tr>\n",
       "    <tr>\n",
       "      <th>67840</th>\n",
       "      <td>169603</td>\n",
       "      <td>0.097779</td>\n",
       "    </tr>\n",
       "    <tr>\n",
       "      <th>67841</th>\n",
       "      <td>169604</td>\n",
       "      <td>0.727675</td>\n",
       "    </tr>\n",
       "  </tbody>\n",
       "</table>\n",
       "<p>67842 rows × 2 columns</p>\n",
       "</div>"
      ],
      "text/plain": [
       "           id   defects\n",
       "0      101763  0.210728\n",
       "1      101764  0.173424\n",
       "2      101765  0.643357\n",
       "3      101766  0.406191\n",
       "4      101767  0.137586\n",
       "...       ...       ...\n",
       "67837  169600  0.238683\n",
       "67838  169601  0.132879\n",
       "67839  169602  0.167386\n",
       "67840  169603  0.097779\n",
       "67841  169604  0.727675\n",
       "\n",
       "[67842 rows x 2 columns]"
      ]
     },
     "execution_count": 30,
     "metadata": {},
     "output_type": "execute_result"
    }
   ],
   "source": [
    "submission['defects'] = test_pred\n",
    "submission"
   ]
  },
  {
   "cell_type": "code",
   "execution_count": 31,
   "id": "0a0eea40",
   "metadata": {
    "execution": {
     "iopub.execute_input": "2023-10-16T23:16:57.369076Z",
     "iopub.status.busy": "2023-10-16T23:16:57.368366Z",
     "iopub.status.idle": "2023-10-16T23:16:57.561318Z",
     "shell.execute_reply": "2023-10-16T23:16:57.559950Z"
    },
    "papermill": {
     "duration": 0.209919,
     "end_time": "2023-10-16T23:16:57.564106",
     "exception": false,
     "start_time": "2023-10-16T23:16:57.354187",
     "status": "completed"
    },
    "tags": []
   },
   "outputs": [],
   "source": [
    "submission.to_csv(\"submission.csv\", index=False)"
   ]
  },
  {
   "cell_type": "code",
   "execution_count": null,
   "id": "1d5af951",
   "metadata": {
    "papermill": {
     "duration": 0.01259,
     "end_time": "2023-10-16T23:16:57.590034",
     "exception": false,
     "start_time": "2023-10-16T23:16:57.577444",
     "status": "completed"
    },
    "tags": []
   },
   "outputs": [],
   "source": []
  }
 ],
 "metadata": {
  "kernelspec": {
   "display_name": "Python 3",
   "language": "python",
   "name": "python3"
  },
  "language_info": {
   "codemirror_mode": {
    "name": "ipython",
    "version": 3
   },
   "file_extension": ".py",
   "mimetype": "text/x-python",
   "name": "python",
   "nbconvert_exporter": "python",
   "pygments_lexer": "ipython3",
   "version": "3.10.12"
  },
  "papermill": {
   "default_parameters": {},
   "duration": 40.513781,
   "end_time": "2023-10-16T23:16:58.630988",
   "environment_variables": {},
   "exception": null,
   "input_path": "__notebook__.ipynb",
   "output_path": "__notebook__.ipynb",
   "parameters": {},
   "start_time": "2023-10-16T23:16:18.117207",
   "version": "2.4.0"
  }
 },
 "nbformat": 4,
 "nbformat_minor": 5
}
